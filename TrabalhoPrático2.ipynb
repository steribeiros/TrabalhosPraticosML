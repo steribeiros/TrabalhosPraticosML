{
  "nbformat": 4,
  "nbformat_minor": 0,
  "metadata": {
    "colab": {
      "provenance": []
    },
    "kernelspec": {
      "display_name": "Python 3",
      "name": "python3"
    },
    "language_info": {
      "name": "python"
    }
  },
  "cells": [
    {
      "cell_type": "markdown",
      "metadata": {
        "id": "iqMNOuEcrFrR"
      },
      "source": [
        "#Dataset\n",
        "SFO Air Traffic Passenger and Cargo Statistics\n",
        "\n",
        "Link do Kaggle: https://www.kaggle.com/rajsengo/sfo-air-traffic-passenger-and-cargo-statistics"
      ]
    },
    {
      "cell_type": "markdown",
      "metadata": {
        "id": "LJTcPr8znyBx"
      },
      "source": [
        "Importando as bibliotecas"
      ]
    },
    {
      "cell_type": "code",
      "metadata": {
        "id": "J2IxSfxvm0uy"
      },
      "source": [
        "import pandas as pd\n",
        "import numpy as np\n",
        "import matplotlib.pyplot as plt\n",
        "from sklearn.model_selection import train_test_split\n",
        "from sklearn import preprocessing\n",
        "from sklearn.impute import SimpleImputer\n",
        "from sklearn.pipeline import Pipeline\n",
        "from sklearn.neighbors import KNeighborsRegressor\n",
        "from sklearn.svm import SVC\n",
        "from sklearn import tree\n",
        "from sklearn.ensemble import RandomForestRegressor\n",
        "from sklearn.ensemble import GradientBoostingRegressor\n",
        "from sklearn.linear_model import Perceptron\n",
        "from sklearn.neural_network import MLPRegressor\n",
        "from sklearn.model_selection import GridSearchCV\n",
        "from sklearn.decomposition import PCA"
      ],
      "execution_count": null,
      "outputs": []
    },
    {
      "cell_type": "markdown",
      "metadata": {
        "id": "Ot7BSJzXoWmK"
      },
      "source": [
        "Carregando o dataset"
      ]
    },
    {
      "cell_type": "code",
      "metadata": {
        "id": "n3KJN-RioZBb"
      },
      "source": [
        "data = pd.read_csv(\"Air_Traffic_Passenger_Statistics.csv\")"
      ],
      "execution_count": null,
      "outputs": []
    },
    {
      "cell_type": "markdown",
      "metadata": {
        "id": "XdU6aGcYoEeL"
      },
      "source": [
        "Análise dos dados"
      ]
    },
    {
      "cell_type": "code",
      "metadata": {
        "colab": {
          "base_uri": "https://localhost:8080/",
          "height": 309
        },
        "id": "c54uttZgoT0g",
        "outputId": "40369e62-c26d-4666-974c-dc872dad04be"
      },
      "source": [
        "data.head()"
      ],
      "execution_count": null,
      "outputs": [
        {
          "output_type": "execute_result",
          "data": {
            "text/html": [
              "<div>\n",
              "<style scoped>\n",
              "    .dataframe tbody tr th:only-of-type {\n",
              "        vertical-align: middle;\n",
              "    }\n",
              "\n",
              "    .dataframe tbody tr th {\n",
              "        vertical-align: top;\n",
              "    }\n",
              "\n",
              "    .dataframe thead th {\n",
              "        text-align: right;\n",
              "    }\n",
              "</style>\n",
              "<table border=\"1\" class=\"dataframe\">\n",
              "  <thead>\n",
              "    <tr style=\"text-align: right;\">\n",
              "      <th></th>\n",
              "      <th>activity_period</th>\n",
              "      <th>operating_airline</th>\n",
              "      <th>operating_airline_iata</th>\n",
              "      <th>published_airline</th>\n",
              "      <th>published_airline_iata</th>\n",
              "      <th>geo_summary</th>\n",
              "      <th>geo_region</th>\n",
              "      <th>activity_type</th>\n",
              "      <th>price_category</th>\n",
              "      <th>terminal</th>\n",
              "      <th>boarding_area</th>\n",
              "      <th>passenger_count</th>\n",
              "    </tr>\n",
              "  </thead>\n",
              "  <tbody>\n",
              "    <tr>\n",
              "      <th>0</th>\n",
              "      <td>200507</td>\n",
              "      <td>ATA Airlines</td>\n",
              "      <td>TZ</td>\n",
              "      <td>ATA Airlines</td>\n",
              "      <td>TZ</td>\n",
              "      <td>Domestic</td>\n",
              "      <td>US</td>\n",
              "      <td>Deplaned</td>\n",
              "      <td>Low Fare</td>\n",
              "      <td>Terminal 1</td>\n",
              "      <td>B</td>\n",
              "      <td>27271</td>\n",
              "    </tr>\n",
              "    <tr>\n",
              "      <th>1</th>\n",
              "      <td>200507</td>\n",
              "      <td>ATA Airlines</td>\n",
              "      <td>TZ</td>\n",
              "      <td>ATA Airlines</td>\n",
              "      <td>TZ</td>\n",
              "      <td>Domestic</td>\n",
              "      <td>US</td>\n",
              "      <td>Enplaned</td>\n",
              "      <td>Low Fare</td>\n",
              "      <td>Terminal 1</td>\n",
              "      <td>B</td>\n",
              "      <td>29131</td>\n",
              "    </tr>\n",
              "    <tr>\n",
              "      <th>2</th>\n",
              "      <td>200507</td>\n",
              "      <td>ATA Airlines</td>\n",
              "      <td>TZ</td>\n",
              "      <td>ATA Airlines</td>\n",
              "      <td>TZ</td>\n",
              "      <td>Domestic</td>\n",
              "      <td>US</td>\n",
              "      <td>Thru / Transit</td>\n",
              "      <td>Low Fare</td>\n",
              "      <td>Terminal 1</td>\n",
              "      <td>B</td>\n",
              "      <td>5415</td>\n",
              "    </tr>\n",
              "    <tr>\n",
              "      <th>3</th>\n",
              "      <td>200507</td>\n",
              "      <td>Air Canada</td>\n",
              "      <td>AC</td>\n",
              "      <td>Air Canada</td>\n",
              "      <td>AC</td>\n",
              "      <td>International</td>\n",
              "      <td>Canada</td>\n",
              "      <td>Deplaned</td>\n",
              "      <td>Other</td>\n",
              "      <td>Terminal 1</td>\n",
              "      <td>B</td>\n",
              "      <td>35156</td>\n",
              "    </tr>\n",
              "    <tr>\n",
              "      <th>4</th>\n",
              "      <td>200507</td>\n",
              "      <td>Air Canada</td>\n",
              "      <td>AC</td>\n",
              "      <td>Air Canada</td>\n",
              "      <td>AC</td>\n",
              "      <td>International</td>\n",
              "      <td>Canada</td>\n",
              "      <td>Enplaned</td>\n",
              "      <td>Other</td>\n",
              "      <td>Terminal 1</td>\n",
              "      <td>B</td>\n",
              "      <td>34090</td>\n",
              "    </tr>\n",
              "  </tbody>\n",
              "</table>\n",
              "</div>"
            ],
            "text/plain": [
              "   activity_period operating_airline  ... boarding_area passenger_count\n",
              "0           200507      ATA Airlines  ...             B           27271\n",
              "1           200507      ATA Airlines  ...             B           29131\n",
              "2           200507      ATA Airlines  ...             B            5415\n",
              "3           200507        Air Canada  ...             B           35156\n",
              "4           200507        Air Canada  ...             B           34090\n",
              "\n",
              "[5 rows x 12 columns]"
            ]
          },
          "metadata": {},
          "execution_count": 4
        }
      ]
    },
    {
      "cell_type": "code",
      "metadata": {
        "colab": {
          "base_uri": "https://localhost:8080/"
        },
        "id": "YM0yvsDTotAS",
        "outputId": "3a507c3c-ad90-4fb0-96c4-59a11c1c2fec"
      },
      "source": [
        "print(data.shape)          #retorna dimensionalidade do dataframe\n",
        "print(data.isnull().sum()) #retorna soma dos valores nulos encontrados"
      ],
      "execution_count": null,
      "outputs": [
        {
          "output_type": "stream",
          "text": [
            "(22869, 12)\n",
            "activity_period            0\n",
            "operating_airline          0\n",
            "operating_airline_iata    74\n",
            "published_airline          0\n",
            "published_airline_iata    74\n",
            "geo_summary                0\n",
            "geo_region                 0\n",
            "activity_type              0\n",
            "price_category             0\n",
            "terminal                   0\n",
            "boarding_area              0\n",
            "passenger_count            0\n",
            "dtype: int64\n"
          ],
          "name": "stdout"
        }
      ]
    },
    {
      "cell_type": "markdown",
      "metadata": {
        "id": "V0ywQFm521ye"
      },
      "source": [
        "Especificando features e rótulos e lidando com variáveis categóricas"
      ]
    },
    {
      "cell_type": "code",
      "metadata": {
        "colab": {
          "base_uri": "https://localhost:8080/",
          "height": 473
        },
        "id": "HpYlSE3e2TUg",
        "outputId": "59c353a6-0bf7-49a2-a8d4-22295573793b"
      },
      "source": [
        "X_, y = data.drop(columns=['passenger_count']), data['passenger_count']\n",
        "X = pd.get_dummies(X_)\n",
        "X"
      ],
      "execution_count": null,
      "outputs": [
        {
          "output_type": "execute_result",
          "data": {
            "text/html": [
              "<div>\n",
              "<style scoped>\n",
              "    .dataframe tbody tr th:only-of-type {\n",
              "        vertical-align: middle;\n",
              "    }\n",
              "\n",
              "    .dataframe tbody tr th {\n",
              "        vertical-align: top;\n",
              "    }\n",
              "\n",
              "    .dataframe thead th {\n",
              "        text-align: right;\n",
              "    }\n",
              "</style>\n",
              "<table border=\"1\" class=\"dataframe\">\n",
              "  <thead>\n",
              "    <tr style=\"text-align: right;\">\n",
              "      <th></th>\n",
              "      <th>activity_period</th>\n",
              "      <th>operating_airline_ABC Aerolineas S.A. de C.V. dba Interjet</th>\n",
              "      <th>operating_airline_ATA Airlines</th>\n",
              "      <th>operating_airline_Aer Lingus</th>\n",
              "      <th>operating_airline_Aeromexico</th>\n",
              "      <th>operating_airline_Air Berlin</th>\n",
              "      <th>operating_airline_Air Canada</th>\n",
              "      <th>operating_airline_Air Canada Jazz</th>\n",
              "      <th>operating_airline_Air China</th>\n",
              "      <th>operating_airline_Air France</th>\n",
              "      <th>operating_airline_Air India Limited</th>\n",
              "      <th>operating_airline_Air Italy S.P.A</th>\n",
              "      <th>operating_airline_Air New Zealand</th>\n",
              "      <th>operating_airline_Air Pacific Limited dba Fiji Airways</th>\n",
              "      <th>operating_airline_AirTran Airways</th>\n",
              "      <th>operating_airline_Alaska Airlines</th>\n",
              "      <th>operating_airline_All Nippon Airways</th>\n",
              "      <th>operating_airline_Allegiant Air</th>\n",
              "      <th>operating_airline_American Airlines</th>\n",
              "      <th>operating_airline_American Eagle Airlines</th>\n",
              "      <th>operating_airline_Ameriflight</th>\n",
              "      <th>operating_airline_Asiana Airlines</th>\n",
              "      <th>operating_airline_Atlantic Southeast Airlines</th>\n",
              "      <th>operating_airline_Atlas Air, Inc</th>\n",
              "      <th>operating_airline_BelAir Airlines</th>\n",
              "      <th>operating_airline_Boeing Company</th>\n",
              "      <th>operating_airline_British Airways</th>\n",
              "      <th>operating_airline_COPA Airlines, Inc.</th>\n",
              "      <th>operating_airline_Cathay Pacific</th>\n",
              "      <th>operating_airline_China Airlines</th>\n",
              "      <th>operating_airline_China Eastern</th>\n",
              "      <th>operating_airline_China Southern</th>\n",
              "      <th>operating_airline_Compass Airlines</th>\n",
              "      <th>operating_airline_Delta Air Lines</th>\n",
              "      <th>operating_airline_EVA Airways</th>\n",
              "      <th>operating_airline_El Al Israel Airlines LTD.</th>\n",
              "      <th>operating_airline_Emirates</th>\n",
              "      <th>operating_airline_Etihad Airways</th>\n",
              "      <th>operating_airline_Evergreen International Airlines</th>\n",
              "      <th>operating_airline_ExpressJet Airlines</th>\n",
              "      <th>...</th>\n",
              "      <th>published_airline_iata_UA</th>\n",
              "      <th>published_airline_iata_US</th>\n",
              "      <th>published_airline_iata_VS</th>\n",
              "      <th>published_airline_iata_VX</th>\n",
              "      <th>published_airline_iata_WN</th>\n",
              "      <th>published_airline_iata_WO</th>\n",
              "      <th>published_airline_iata_WS</th>\n",
              "      <th>published_airline_iata_WW</th>\n",
              "      <th>published_airline_iata_XP</th>\n",
              "      <th>published_airline_iata_Y4</th>\n",
              "      <th>published_airline_iata_YX</th>\n",
              "      <th>geo_summary_Domestic</th>\n",
              "      <th>geo_summary_International</th>\n",
              "      <th>geo_region_Asia</th>\n",
              "      <th>geo_region_Australia / Oceania</th>\n",
              "      <th>geo_region_Canada</th>\n",
              "      <th>geo_region_Central America</th>\n",
              "      <th>geo_region_Europe</th>\n",
              "      <th>geo_region_Mexico</th>\n",
              "      <th>geo_region_Middle East</th>\n",
              "      <th>geo_region_South America</th>\n",
              "      <th>geo_region_US</th>\n",
              "      <th>activity_type_Deplaned</th>\n",
              "      <th>activity_type_Enplaned</th>\n",
              "      <th>activity_type_Thru / Transit</th>\n",
              "      <th>price_category_Low Fare</th>\n",
              "      <th>price_category_Other</th>\n",
              "      <th>terminal_International</th>\n",
              "      <th>terminal_Other</th>\n",
              "      <th>terminal_Terminal 1</th>\n",
              "      <th>terminal_Terminal 2</th>\n",
              "      <th>terminal_Terminal 3</th>\n",
              "      <th>boarding_area_A</th>\n",
              "      <th>boarding_area_B</th>\n",
              "      <th>boarding_area_C</th>\n",
              "      <th>boarding_area_D</th>\n",
              "      <th>boarding_area_E</th>\n",
              "      <th>boarding_area_F</th>\n",
              "      <th>boarding_area_G</th>\n",
              "      <th>boarding_area_Other</th>\n",
              "    </tr>\n",
              "  </thead>\n",
              "  <tbody>\n",
              "    <tr>\n",
              "      <th>0</th>\n",
              "      <td>200507</td>\n",
              "      <td>0</td>\n",
              "      <td>1</td>\n",
              "      <td>0</td>\n",
              "      <td>0</td>\n",
              "      <td>0</td>\n",
              "      <td>0</td>\n",
              "      <td>0</td>\n",
              "      <td>0</td>\n",
              "      <td>0</td>\n",
              "      <td>0</td>\n",
              "      <td>0</td>\n",
              "      <td>0</td>\n",
              "      <td>0</td>\n",
              "      <td>0</td>\n",
              "      <td>0</td>\n",
              "      <td>0</td>\n",
              "      <td>0</td>\n",
              "      <td>0</td>\n",
              "      <td>0</td>\n",
              "      <td>0</td>\n",
              "      <td>0</td>\n",
              "      <td>0</td>\n",
              "      <td>0</td>\n",
              "      <td>0</td>\n",
              "      <td>0</td>\n",
              "      <td>0</td>\n",
              "      <td>0</td>\n",
              "      <td>0</td>\n",
              "      <td>0</td>\n",
              "      <td>0</td>\n",
              "      <td>0</td>\n",
              "      <td>0</td>\n",
              "      <td>0</td>\n",
              "      <td>0</td>\n",
              "      <td>0</td>\n",
              "      <td>0</td>\n",
              "      <td>0</td>\n",
              "      <td>0</td>\n",
              "      <td>0</td>\n",
              "      <td>...</td>\n",
              "      <td>0</td>\n",
              "      <td>0</td>\n",
              "      <td>0</td>\n",
              "      <td>0</td>\n",
              "      <td>0</td>\n",
              "      <td>0</td>\n",
              "      <td>0</td>\n",
              "      <td>0</td>\n",
              "      <td>0</td>\n",
              "      <td>0</td>\n",
              "      <td>0</td>\n",
              "      <td>1</td>\n",
              "      <td>0</td>\n",
              "      <td>0</td>\n",
              "      <td>0</td>\n",
              "      <td>0</td>\n",
              "      <td>0</td>\n",
              "      <td>0</td>\n",
              "      <td>0</td>\n",
              "      <td>0</td>\n",
              "      <td>0</td>\n",
              "      <td>1</td>\n",
              "      <td>1</td>\n",
              "      <td>0</td>\n",
              "      <td>0</td>\n",
              "      <td>1</td>\n",
              "      <td>0</td>\n",
              "      <td>0</td>\n",
              "      <td>0</td>\n",
              "      <td>1</td>\n",
              "      <td>0</td>\n",
              "      <td>0</td>\n",
              "      <td>0</td>\n",
              "      <td>1</td>\n",
              "      <td>0</td>\n",
              "      <td>0</td>\n",
              "      <td>0</td>\n",
              "      <td>0</td>\n",
              "      <td>0</td>\n",
              "      <td>0</td>\n",
              "    </tr>\n",
              "    <tr>\n",
              "      <th>1</th>\n",
              "      <td>200507</td>\n",
              "      <td>0</td>\n",
              "      <td>1</td>\n",
              "      <td>0</td>\n",
              "      <td>0</td>\n",
              "      <td>0</td>\n",
              "      <td>0</td>\n",
              "      <td>0</td>\n",
              "      <td>0</td>\n",
              "      <td>0</td>\n",
              "      <td>0</td>\n",
              "      <td>0</td>\n",
              "      <td>0</td>\n",
              "      <td>0</td>\n",
              "      <td>0</td>\n",
              "      <td>0</td>\n",
              "      <td>0</td>\n",
              "      <td>0</td>\n",
              "      <td>0</td>\n",
              "      <td>0</td>\n",
              "      <td>0</td>\n",
              "      <td>0</td>\n",
              "      <td>0</td>\n",
              "      <td>0</td>\n",
              "      <td>0</td>\n",
              "      <td>0</td>\n",
              "      <td>0</td>\n",
              "      <td>0</td>\n",
              "      <td>0</td>\n",
              "      <td>0</td>\n",
              "      <td>0</td>\n",
              "      <td>0</td>\n",
              "      <td>0</td>\n",
              "      <td>0</td>\n",
              "      <td>0</td>\n",
              "      <td>0</td>\n",
              "      <td>0</td>\n",
              "      <td>0</td>\n",
              "      <td>0</td>\n",
              "      <td>0</td>\n",
              "      <td>...</td>\n",
              "      <td>0</td>\n",
              "      <td>0</td>\n",
              "      <td>0</td>\n",
              "      <td>0</td>\n",
              "      <td>0</td>\n",
              "      <td>0</td>\n",
              "      <td>0</td>\n",
              "      <td>0</td>\n",
              "      <td>0</td>\n",
              "      <td>0</td>\n",
              "      <td>0</td>\n",
              "      <td>1</td>\n",
              "      <td>0</td>\n",
              "      <td>0</td>\n",
              "      <td>0</td>\n",
              "      <td>0</td>\n",
              "      <td>0</td>\n",
              "      <td>0</td>\n",
              "      <td>0</td>\n",
              "      <td>0</td>\n",
              "      <td>0</td>\n",
              "      <td>1</td>\n",
              "      <td>0</td>\n",
              "      <td>1</td>\n",
              "      <td>0</td>\n",
              "      <td>1</td>\n",
              "      <td>0</td>\n",
              "      <td>0</td>\n",
              "      <td>0</td>\n",
              "      <td>1</td>\n",
              "      <td>0</td>\n",
              "      <td>0</td>\n",
              "      <td>0</td>\n",
              "      <td>1</td>\n",
              "      <td>0</td>\n",
              "      <td>0</td>\n",
              "      <td>0</td>\n",
              "      <td>0</td>\n",
              "      <td>0</td>\n",
              "      <td>0</td>\n",
              "    </tr>\n",
              "    <tr>\n",
              "      <th>2</th>\n",
              "      <td>200507</td>\n",
              "      <td>0</td>\n",
              "      <td>1</td>\n",
              "      <td>0</td>\n",
              "      <td>0</td>\n",
              "      <td>0</td>\n",
              "      <td>0</td>\n",
              "      <td>0</td>\n",
              "      <td>0</td>\n",
              "      <td>0</td>\n",
              "      <td>0</td>\n",
              "      <td>0</td>\n",
              "      <td>0</td>\n",
              "      <td>0</td>\n",
              "      <td>0</td>\n",
              "      <td>0</td>\n",
              "      <td>0</td>\n",
              "      <td>0</td>\n",
              "      <td>0</td>\n",
              "      <td>0</td>\n",
              "      <td>0</td>\n",
              "      <td>0</td>\n",
              "      <td>0</td>\n",
              "      <td>0</td>\n",
              "      <td>0</td>\n",
              "      <td>0</td>\n",
              "      <td>0</td>\n",
              "      <td>0</td>\n",
              "      <td>0</td>\n",
              "      <td>0</td>\n",
              "      <td>0</td>\n",
              "      <td>0</td>\n",
              "      <td>0</td>\n",
              "      <td>0</td>\n",
              "      <td>0</td>\n",
              "      <td>0</td>\n",
              "      <td>0</td>\n",
              "      <td>0</td>\n",
              "      <td>0</td>\n",
              "      <td>0</td>\n",
              "      <td>...</td>\n",
              "      <td>0</td>\n",
              "      <td>0</td>\n",
              "      <td>0</td>\n",
              "      <td>0</td>\n",
              "      <td>0</td>\n",
              "      <td>0</td>\n",
              "      <td>0</td>\n",
              "      <td>0</td>\n",
              "      <td>0</td>\n",
              "      <td>0</td>\n",
              "      <td>0</td>\n",
              "      <td>1</td>\n",
              "      <td>0</td>\n",
              "      <td>0</td>\n",
              "      <td>0</td>\n",
              "      <td>0</td>\n",
              "      <td>0</td>\n",
              "      <td>0</td>\n",
              "      <td>0</td>\n",
              "      <td>0</td>\n",
              "      <td>0</td>\n",
              "      <td>1</td>\n",
              "      <td>0</td>\n",
              "      <td>0</td>\n",
              "      <td>1</td>\n",
              "      <td>1</td>\n",
              "      <td>0</td>\n",
              "      <td>0</td>\n",
              "      <td>0</td>\n",
              "      <td>1</td>\n",
              "      <td>0</td>\n",
              "      <td>0</td>\n",
              "      <td>0</td>\n",
              "      <td>1</td>\n",
              "      <td>0</td>\n",
              "      <td>0</td>\n",
              "      <td>0</td>\n",
              "      <td>0</td>\n",
              "      <td>0</td>\n",
              "      <td>0</td>\n",
              "    </tr>\n",
              "    <tr>\n",
              "      <th>3</th>\n",
              "      <td>200507</td>\n",
              "      <td>0</td>\n",
              "      <td>0</td>\n",
              "      <td>0</td>\n",
              "      <td>0</td>\n",
              "      <td>0</td>\n",
              "      <td>1</td>\n",
              "      <td>0</td>\n",
              "      <td>0</td>\n",
              "      <td>0</td>\n",
              "      <td>0</td>\n",
              "      <td>0</td>\n",
              "      <td>0</td>\n",
              "      <td>0</td>\n",
              "      <td>0</td>\n",
              "      <td>0</td>\n",
              "      <td>0</td>\n",
              "      <td>0</td>\n",
              "      <td>0</td>\n",
              "      <td>0</td>\n",
              "      <td>0</td>\n",
              "      <td>0</td>\n",
              "      <td>0</td>\n",
              "      <td>0</td>\n",
              "      <td>0</td>\n",
              "      <td>0</td>\n",
              "      <td>0</td>\n",
              "      <td>0</td>\n",
              "      <td>0</td>\n",
              "      <td>0</td>\n",
              "      <td>0</td>\n",
              "      <td>0</td>\n",
              "      <td>0</td>\n",
              "      <td>0</td>\n",
              "      <td>0</td>\n",
              "      <td>0</td>\n",
              "      <td>0</td>\n",
              "      <td>0</td>\n",
              "      <td>0</td>\n",
              "      <td>0</td>\n",
              "      <td>...</td>\n",
              "      <td>0</td>\n",
              "      <td>0</td>\n",
              "      <td>0</td>\n",
              "      <td>0</td>\n",
              "      <td>0</td>\n",
              "      <td>0</td>\n",
              "      <td>0</td>\n",
              "      <td>0</td>\n",
              "      <td>0</td>\n",
              "      <td>0</td>\n",
              "      <td>0</td>\n",
              "      <td>0</td>\n",
              "      <td>1</td>\n",
              "      <td>0</td>\n",
              "      <td>0</td>\n",
              "      <td>1</td>\n",
              "      <td>0</td>\n",
              "      <td>0</td>\n",
              "      <td>0</td>\n",
              "      <td>0</td>\n",
              "      <td>0</td>\n",
              "      <td>0</td>\n",
              "      <td>1</td>\n",
              "      <td>0</td>\n",
              "      <td>0</td>\n",
              "      <td>0</td>\n",
              "      <td>1</td>\n",
              "      <td>0</td>\n",
              "      <td>0</td>\n",
              "      <td>1</td>\n",
              "      <td>0</td>\n",
              "      <td>0</td>\n",
              "      <td>0</td>\n",
              "      <td>1</td>\n",
              "      <td>0</td>\n",
              "      <td>0</td>\n",
              "      <td>0</td>\n",
              "      <td>0</td>\n",
              "      <td>0</td>\n",
              "      <td>0</td>\n",
              "    </tr>\n",
              "    <tr>\n",
              "      <th>4</th>\n",
              "      <td>200507</td>\n",
              "      <td>0</td>\n",
              "      <td>0</td>\n",
              "      <td>0</td>\n",
              "      <td>0</td>\n",
              "      <td>0</td>\n",
              "      <td>1</td>\n",
              "      <td>0</td>\n",
              "      <td>0</td>\n",
              "      <td>0</td>\n",
              "      <td>0</td>\n",
              "      <td>0</td>\n",
              "      <td>0</td>\n",
              "      <td>0</td>\n",
              "      <td>0</td>\n",
              "      <td>0</td>\n",
              "      <td>0</td>\n",
              "      <td>0</td>\n",
              "      <td>0</td>\n",
              "      <td>0</td>\n",
              "      <td>0</td>\n",
              "      <td>0</td>\n",
              "      <td>0</td>\n",
              "      <td>0</td>\n",
              "      <td>0</td>\n",
              "      <td>0</td>\n",
              "      <td>0</td>\n",
              "      <td>0</td>\n",
              "      <td>0</td>\n",
              "      <td>0</td>\n",
              "      <td>0</td>\n",
              "      <td>0</td>\n",
              "      <td>0</td>\n",
              "      <td>0</td>\n",
              "      <td>0</td>\n",
              "      <td>0</td>\n",
              "      <td>0</td>\n",
              "      <td>0</td>\n",
              "      <td>0</td>\n",
              "      <td>0</td>\n",
              "      <td>...</td>\n",
              "      <td>0</td>\n",
              "      <td>0</td>\n",
              "      <td>0</td>\n",
              "      <td>0</td>\n",
              "      <td>0</td>\n",
              "      <td>0</td>\n",
              "      <td>0</td>\n",
              "      <td>0</td>\n",
              "      <td>0</td>\n",
              "      <td>0</td>\n",
              "      <td>0</td>\n",
              "      <td>0</td>\n",
              "      <td>1</td>\n",
              "      <td>0</td>\n",
              "      <td>0</td>\n",
              "      <td>1</td>\n",
              "      <td>0</td>\n",
              "      <td>0</td>\n",
              "      <td>0</td>\n",
              "      <td>0</td>\n",
              "      <td>0</td>\n",
              "      <td>0</td>\n",
              "      <td>0</td>\n",
              "      <td>1</td>\n",
              "      <td>0</td>\n",
              "      <td>0</td>\n",
              "      <td>1</td>\n",
              "      <td>0</td>\n",
              "      <td>0</td>\n",
              "      <td>1</td>\n",
              "      <td>0</td>\n",
              "      <td>0</td>\n",
              "      <td>0</td>\n",
              "      <td>1</td>\n",
              "      <td>0</td>\n",
              "      <td>0</td>\n",
              "      <td>0</td>\n",
              "      <td>0</td>\n",
              "      <td>0</td>\n",
              "      <td>0</td>\n",
              "    </tr>\n",
              "    <tr>\n",
              "      <th>...</th>\n",
              "      <td>...</td>\n",
              "      <td>...</td>\n",
              "      <td>...</td>\n",
              "      <td>...</td>\n",
              "      <td>...</td>\n",
              "      <td>...</td>\n",
              "      <td>...</td>\n",
              "      <td>...</td>\n",
              "      <td>...</td>\n",
              "      <td>...</td>\n",
              "      <td>...</td>\n",
              "      <td>...</td>\n",
              "      <td>...</td>\n",
              "      <td>...</td>\n",
              "      <td>...</td>\n",
              "      <td>...</td>\n",
              "      <td>...</td>\n",
              "      <td>...</td>\n",
              "      <td>...</td>\n",
              "      <td>...</td>\n",
              "      <td>...</td>\n",
              "      <td>...</td>\n",
              "      <td>...</td>\n",
              "      <td>...</td>\n",
              "      <td>...</td>\n",
              "      <td>...</td>\n",
              "      <td>...</td>\n",
              "      <td>...</td>\n",
              "      <td>...</td>\n",
              "      <td>...</td>\n",
              "      <td>...</td>\n",
              "      <td>...</td>\n",
              "      <td>...</td>\n",
              "      <td>...</td>\n",
              "      <td>...</td>\n",
              "      <td>...</td>\n",
              "      <td>...</td>\n",
              "      <td>...</td>\n",
              "      <td>...</td>\n",
              "      <td>...</td>\n",
              "      <td>...</td>\n",
              "      <td>...</td>\n",
              "      <td>...</td>\n",
              "      <td>...</td>\n",
              "      <td>...</td>\n",
              "      <td>...</td>\n",
              "      <td>...</td>\n",
              "      <td>...</td>\n",
              "      <td>...</td>\n",
              "      <td>...</td>\n",
              "      <td>...</td>\n",
              "      <td>...</td>\n",
              "      <td>...</td>\n",
              "      <td>...</td>\n",
              "      <td>...</td>\n",
              "      <td>...</td>\n",
              "      <td>...</td>\n",
              "      <td>...</td>\n",
              "      <td>...</td>\n",
              "      <td>...</td>\n",
              "      <td>...</td>\n",
              "      <td>...</td>\n",
              "      <td>...</td>\n",
              "      <td>...</td>\n",
              "      <td>...</td>\n",
              "      <td>...</td>\n",
              "      <td>...</td>\n",
              "      <td>...</td>\n",
              "      <td>...</td>\n",
              "      <td>...</td>\n",
              "      <td>...</td>\n",
              "      <td>...</td>\n",
              "      <td>...</td>\n",
              "      <td>...</td>\n",
              "      <td>...</td>\n",
              "      <td>...</td>\n",
              "      <td>...</td>\n",
              "      <td>...</td>\n",
              "      <td>...</td>\n",
              "      <td>...</td>\n",
              "      <td>...</td>\n",
              "    </tr>\n",
              "    <tr>\n",
              "      <th>22864</th>\n",
              "      <td>202012</td>\n",
              "      <td>0</td>\n",
              "      <td>0</td>\n",
              "      <td>0</td>\n",
              "      <td>0</td>\n",
              "      <td>0</td>\n",
              "      <td>0</td>\n",
              "      <td>0</td>\n",
              "      <td>0</td>\n",
              "      <td>0</td>\n",
              "      <td>0</td>\n",
              "      <td>0</td>\n",
              "      <td>0</td>\n",
              "      <td>0</td>\n",
              "      <td>0</td>\n",
              "      <td>0</td>\n",
              "      <td>0</td>\n",
              "      <td>0</td>\n",
              "      <td>0</td>\n",
              "      <td>0</td>\n",
              "      <td>0</td>\n",
              "      <td>0</td>\n",
              "      <td>0</td>\n",
              "      <td>0</td>\n",
              "      <td>0</td>\n",
              "      <td>0</td>\n",
              "      <td>0</td>\n",
              "      <td>0</td>\n",
              "      <td>0</td>\n",
              "      <td>0</td>\n",
              "      <td>0</td>\n",
              "      <td>0</td>\n",
              "      <td>0</td>\n",
              "      <td>0</td>\n",
              "      <td>0</td>\n",
              "      <td>0</td>\n",
              "      <td>0</td>\n",
              "      <td>0</td>\n",
              "      <td>0</td>\n",
              "      <td>0</td>\n",
              "      <td>...</td>\n",
              "      <td>1</td>\n",
              "      <td>0</td>\n",
              "      <td>0</td>\n",
              "      <td>0</td>\n",
              "      <td>0</td>\n",
              "      <td>0</td>\n",
              "      <td>0</td>\n",
              "      <td>0</td>\n",
              "      <td>0</td>\n",
              "      <td>0</td>\n",
              "      <td>0</td>\n",
              "      <td>0</td>\n",
              "      <td>1</td>\n",
              "      <td>0</td>\n",
              "      <td>0</td>\n",
              "      <td>0</td>\n",
              "      <td>0</td>\n",
              "      <td>0</td>\n",
              "      <td>1</td>\n",
              "      <td>0</td>\n",
              "      <td>0</td>\n",
              "      <td>0</td>\n",
              "      <td>0</td>\n",
              "      <td>1</td>\n",
              "      <td>0</td>\n",
              "      <td>0</td>\n",
              "      <td>1</td>\n",
              "      <td>1</td>\n",
              "      <td>0</td>\n",
              "      <td>0</td>\n",
              "      <td>0</td>\n",
              "      <td>0</td>\n",
              "      <td>0</td>\n",
              "      <td>0</td>\n",
              "      <td>0</td>\n",
              "      <td>0</td>\n",
              "      <td>0</td>\n",
              "      <td>0</td>\n",
              "      <td>1</td>\n",
              "      <td>0</td>\n",
              "    </tr>\n",
              "    <tr>\n",
              "      <th>22865</th>\n",
              "      <td>202012</td>\n",
              "      <td>0</td>\n",
              "      <td>0</td>\n",
              "      <td>0</td>\n",
              "      <td>0</td>\n",
              "      <td>0</td>\n",
              "      <td>0</td>\n",
              "      <td>0</td>\n",
              "      <td>0</td>\n",
              "      <td>0</td>\n",
              "      <td>0</td>\n",
              "      <td>0</td>\n",
              "      <td>0</td>\n",
              "      <td>0</td>\n",
              "      <td>0</td>\n",
              "      <td>0</td>\n",
              "      <td>0</td>\n",
              "      <td>0</td>\n",
              "      <td>0</td>\n",
              "      <td>0</td>\n",
              "      <td>0</td>\n",
              "      <td>0</td>\n",
              "      <td>0</td>\n",
              "      <td>0</td>\n",
              "      <td>0</td>\n",
              "      <td>0</td>\n",
              "      <td>0</td>\n",
              "      <td>0</td>\n",
              "      <td>0</td>\n",
              "      <td>0</td>\n",
              "      <td>0</td>\n",
              "      <td>0</td>\n",
              "      <td>0</td>\n",
              "      <td>0</td>\n",
              "      <td>0</td>\n",
              "      <td>0</td>\n",
              "      <td>0</td>\n",
              "      <td>0</td>\n",
              "      <td>0</td>\n",
              "      <td>0</td>\n",
              "      <td>...</td>\n",
              "      <td>1</td>\n",
              "      <td>0</td>\n",
              "      <td>0</td>\n",
              "      <td>0</td>\n",
              "      <td>0</td>\n",
              "      <td>0</td>\n",
              "      <td>0</td>\n",
              "      <td>0</td>\n",
              "      <td>0</td>\n",
              "      <td>0</td>\n",
              "      <td>0</td>\n",
              "      <td>0</td>\n",
              "      <td>1</td>\n",
              "      <td>0</td>\n",
              "      <td>0</td>\n",
              "      <td>0</td>\n",
              "      <td>0</td>\n",
              "      <td>0</td>\n",
              "      <td>1</td>\n",
              "      <td>0</td>\n",
              "      <td>0</td>\n",
              "      <td>0</td>\n",
              "      <td>0</td>\n",
              "      <td>1</td>\n",
              "      <td>0</td>\n",
              "      <td>0</td>\n",
              "      <td>1</td>\n",
              "      <td>0</td>\n",
              "      <td>0</td>\n",
              "      <td>0</td>\n",
              "      <td>0</td>\n",
              "      <td>1</td>\n",
              "      <td>0</td>\n",
              "      <td>0</td>\n",
              "      <td>0</td>\n",
              "      <td>0</td>\n",
              "      <td>1</td>\n",
              "      <td>0</td>\n",
              "      <td>0</td>\n",
              "      <td>0</td>\n",
              "    </tr>\n",
              "    <tr>\n",
              "      <th>22866</th>\n",
              "      <td>202012</td>\n",
              "      <td>0</td>\n",
              "      <td>0</td>\n",
              "      <td>0</td>\n",
              "      <td>0</td>\n",
              "      <td>0</td>\n",
              "      <td>0</td>\n",
              "      <td>0</td>\n",
              "      <td>0</td>\n",
              "      <td>0</td>\n",
              "      <td>0</td>\n",
              "      <td>0</td>\n",
              "      <td>0</td>\n",
              "      <td>0</td>\n",
              "      <td>0</td>\n",
              "      <td>0</td>\n",
              "      <td>0</td>\n",
              "      <td>0</td>\n",
              "      <td>0</td>\n",
              "      <td>0</td>\n",
              "      <td>0</td>\n",
              "      <td>0</td>\n",
              "      <td>0</td>\n",
              "      <td>0</td>\n",
              "      <td>0</td>\n",
              "      <td>0</td>\n",
              "      <td>0</td>\n",
              "      <td>0</td>\n",
              "      <td>0</td>\n",
              "      <td>0</td>\n",
              "      <td>0</td>\n",
              "      <td>0</td>\n",
              "      <td>0</td>\n",
              "      <td>0</td>\n",
              "      <td>0</td>\n",
              "      <td>0</td>\n",
              "      <td>0</td>\n",
              "      <td>0</td>\n",
              "      <td>0</td>\n",
              "      <td>0</td>\n",
              "      <td>...</td>\n",
              "      <td>1</td>\n",
              "      <td>0</td>\n",
              "      <td>0</td>\n",
              "      <td>0</td>\n",
              "      <td>0</td>\n",
              "      <td>0</td>\n",
              "      <td>0</td>\n",
              "      <td>0</td>\n",
              "      <td>0</td>\n",
              "      <td>0</td>\n",
              "      <td>0</td>\n",
              "      <td>0</td>\n",
              "      <td>1</td>\n",
              "      <td>0</td>\n",
              "      <td>0</td>\n",
              "      <td>0</td>\n",
              "      <td>0</td>\n",
              "      <td>0</td>\n",
              "      <td>1</td>\n",
              "      <td>0</td>\n",
              "      <td>0</td>\n",
              "      <td>0</td>\n",
              "      <td>0</td>\n",
              "      <td>1</td>\n",
              "      <td>0</td>\n",
              "      <td>0</td>\n",
              "      <td>1</td>\n",
              "      <td>0</td>\n",
              "      <td>0</td>\n",
              "      <td>0</td>\n",
              "      <td>0</td>\n",
              "      <td>1</td>\n",
              "      <td>0</td>\n",
              "      <td>0</td>\n",
              "      <td>0</td>\n",
              "      <td>0</td>\n",
              "      <td>0</td>\n",
              "      <td>1</td>\n",
              "      <td>0</td>\n",
              "      <td>0</td>\n",
              "    </tr>\n",
              "    <tr>\n",
              "      <th>22867</th>\n",
              "      <td>202012</td>\n",
              "      <td>0</td>\n",
              "      <td>0</td>\n",
              "      <td>0</td>\n",
              "      <td>0</td>\n",
              "      <td>0</td>\n",
              "      <td>0</td>\n",
              "      <td>0</td>\n",
              "      <td>0</td>\n",
              "      <td>0</td>\n",
              "      <td>0</td>\n",
              "      <td>0</td>\n",
              "      <td>0</td>\n",
              "      <td>0</td>\n",
              "      <td>0</td>\n",
              "      <td>0</td>\n",
              "      <td>0</td>\n",
              "      <td>0</td>\n",
              "      <td>0</td>\n",
              "      <td>0</td>\n",
              "      <td>0</td>\n",
              "      <td>0</td>\n",
              "      <td>0</td>\n",
              "      <td>0</td>\n",
              "      <td>0</td>\n",
              "      <td>0</td>\n",
              "      <td>0</td>\n",
              "      <td>0</td>\n",
              "      <td>0</td>\n",
              "      <td>0</td>\n",
              "      <td>0</td>\n",
              "      <td>0</td>\n",
              "      <td>0</td>\n",
              "      <td>0</td>\n",
              "      <td>0</td>\n",
              "      <td>0</td>\n",
              "      <td>0</td>\n",
              "      <td>0</td>\n",
              "      <td>0</td>\n",
              "      <td>0</td>\n",
              "      <td>...</td>\n",
              "      <td>1</td>\n",
              "      <td>0</td>\n",
              "      <td>0</td>\n",
              "      <td>0</td>\n",
              "      <td>0</td>\n",
              "      <td>0</td>\n",
              "      <td>0</td>\n",
              "      <td>0</td>\n",
              "      <td>0</td>\n",
              "      <td>0</td>\n",
              "      <td>0</td>\n",
              "      <td>0</td>\n",
              "      <td>1</td>\n",
              "      <td>0</td>\n",
              "      <td>0</td>\n",
              "      <td>0</td>\n",
              "      <td>0</td>\n",
              "      <td>0</td>\n",
              "      <td>0</td>\n",
              "      <td>1</td>\n",
              "      <td>0</td>\n",
              "      <td>0</td>\n",
              "      <td>1</td>\n",
              "      <td>0</td>\n",
              "      <td>0</td>\n",
              "      <td>0</td>\n",
              "      <td>1</td>\n",
              "      <td>1</td>\n",
              "      <td>0</td>\n",
              "      <td>0</td>\n",
              "      <td>0</td>\n",
              "      <td>0</td>\n",
              "      <td>0</td>\n",
              "      <td>0</td>\n",
              "      <td>0</td>\n",
              "      <td>0</td>\n",
              "      <td>0</td>\n",
              "      <td>0</td>\n",
              "      <td>1</td>\n",
              "      <td>0</td>\n",
              "    </tr>\n",
              "    <tr>\n",
              "      <th>22868</th>\n",
              "      <td>202012</td>\n",
              "      <td>0</td>\n",
              "      <td>0</td>\n",
              "      <td>0</td>\n",
              "      <td>0</td>\n",
              "      <td>0</td>\n",
              "      <td>0</td>\n",
              "      <td>0</td>\n",
              "      <td>0</td>\n",
              "      <td>0</td>\n",
              "      <td>0</td>\n",
              "      <td>0</td>\n",
              "      <td>0</td>\n",
              "      <td>0</td>\n",
              "      <td>0</td>\n",
              "      <td>0</td>\n",
              "      <td>0</td>\n",
              "      <td>0</td>\n",
              "      <td>0</td>\n",
              "      <td>0</td>\n",
              "      <td>0</td>\n",
              "      <td>0</td>\n",
              "      <td>0</td>\n",
              "      <td>0</td>\n",
              "      <td>0</td>\n",
              "      <td>0</td>\n",
              "      <td>0</td>\n",
              "      <td>0</td>\n",
              "      <td>0</td>\n",
              "      <td>0</td>\n",
              "      <td>0</td>\n",
              "      <td>0</td>\n",
              "      <td>0</td>\n",
              "      <td>0</td>\n",
              "      <td>0</td>\n",
              "      <td>0</td>\n",
              "      <td>0</td>\n",
              "      <td>0</td>\n",
              "      <td>0</td>\n",
              "      <td>0</td>\n",
              "      <td>...</td>\n",
              "      <td>1</td>\n",
              "      <td>0</td>\n",
              "      <td>0</td>\n",
              "      <td>0</td>\n",
              "      <td>0</td>\n",
              "      <td>0</td>\n",
              "      <td>0</td>\n",
              "      <td>0</td>\n",
              "      <td>0</td>\n",
              "      <td>0</td>\n",
              "      <td>0</td>\n",
              "      <td>0</td>\n",
              "      <td>1</td>\n",
              "      <td>0</td>\n",
              "      <td>0</td>\n",
              "      <td>0</td>\n",
              "      <td>0</td>\n",
              "      <td>0</td>\n",
              "      <td>0</td>\n",
              "      <td>1</td>\n",
              "      <td>0</td>\n",
              "      <td>0</td>\n",
              "      <td>0</td>\n",
              "      <td>1</td>\n",
              "      <td>0</td>\n",
              "      <td>0</td>\n",
              "      <td>1</td>\n",
              "      <td>1</td>\n",
              "      <td>0</td>\n",
              "      <td>0</td>\n",
              "      <td>0</td>\n",
              "      <td>0</td>\n",
              "      <td>0</td>\n",
              "      <td>0</td>\n",
              "      <td>0</td>\n",
              "      <td>0</td>\n",
              "      <td>0</td>\n",
              "      <td>0</td>\n",
              "      <td>1</td>\n",
              "      <td>0</td>\n",
              "    </tr>\n",
              "  </tbody>\n",
              "</table>\n",
              "<p>22869 rows × 377 columns</p>\n",
              "</div>"
            ],
            "text/plain": [
              "       activity_period  ...  boarding_area_Other\n",
              "0               200507  ...                    0\n",
              "1               200507  ...                    0\n",
              "2               200507  ...                    0\n",
              "3               200507  ...                    0\n",
              "4               200507  ...                    0\n",
              "...                ...  ...                  ...\n",
              "22864           202012  ...                    0\n",
              "22865           202012  ...                    0\n",
              "22866           202012  ...                    0\n",
              "22867           202012  ...                    0\n",
              "22868           202012  ...                    0\n",
              "\n",
              "[22869 rows x 377 columns]"
            ]
          },
          "metadata": {},
          "execution_count": 6
        }
      ]
    },
    {
      "cell_type": "markdown",
      "metadata": {
        "id": "vcw1TKtROPhV"
      },
      "source": [
        "Separando dados em 80% para treino e 20% para teste"
      ]
    },
    {
      "cell_type": "code",
      "metadata": {
        "id": "Gpj_NLdROVaD"
      },
      "source": [
        "X_train, X_test, y_train, y_test = train_test_split(X, y, test_size=0.2, random_state=42)"
      ],
      "execution_count": null,
      "outputs": []
    },
    {
      "cell_type": "markdown",
      "metadata": {
        "id": "MSYkTMEbzTZG"
      },
      "source": [
        "#Teste de redução de dimensionalidade com PCA nos dados"
      ]
    },
    {
      "cell_type": "code",
      "metadata": {
        "id": "HoQSXG3-zwe_"
      },
      "source": [
        "scaler_std = preprocessing.StandardScaler()\n",
        "X_train_std = scaler_std.fit_transform(X_train)\n",
        "X_test_std = scaler_std.transform(X_test)"
      ],
      "execution_count": null,
      "outputs": []
    },
    {
      "cell_type": "code",
      "metadata": {
        "colab": {
          "base_uri": "https://localhost:8080/"
        },
        "id": "CtZCVTWzzSit",
        "outputId": "83e96ed1-8229-449c-a0f9-0974f714deaf"
      },
      "source": [
        "pca = PCA()\n",
        "X_train_pca = pca.fit_transform(X_train_std)\n",
        "pca.explained_variance_ratio_"
      ],
      "execution_count": null,
      "outputs": [
        {
          "output_type": "execute_result",
          "data": {
            "text/plain": [
              "array([2.46583465e-02, 1.73028546e-02, 1.58952352e-02, 1.43140344e-02,\n",
              "       1.37956268e-02, 1.36546610e-02, 1.35194658e-02, 1.34159402e-02,\n",
              "       1.31378956e-02, 1.29877048e-02, 1.24903969e-02, 1.23924383e-02,\n",
              "       1.20276600e-02, 1.18612036e-02, 1.13523987e-02, 1.12169309e-02,\n",
              "       1.10698173e-02, 1.09270003e-02, 1.08698480e-02, 1.08497079e-02,\n",
              "       1.08492003e-02, 1.08468526e-02, 1.08447423e-02, 1.08443257e-02,\n",
              "       1.08434810e-02, 1.08427287e-02, 1.08421624e-02, 1.08412911e-02,\n",
              "       1.08401882e-02, 1.08394549e-02, 1.08366785e-02, 1.08366310e-02,\n",
              "       1.08158754e-02, 1.08046484e-02, 1.07961467e-02, 1.07848197e-02,\n",
              "       1.07755428e-02, 1.07694050e-02, 1.07655725e-02, 1.07553583e-02,\n",
              "       1.07543909e-02, 1.07512352e-02, 1.07470491e-02, 1.07376479e-02,\n",
              "       1.07313610e-02, 1.07290091e-02, 1.07272927e-02, 1.07187350e-02,\n",
              "       1.07146839e-02, 1.07075409e-02, 1.07031762e-02, 1.07016732e-02,\n",
              "       1.06984529e-02, 1.06952777e-02, 1.06917616e-02, 1.06901544e-02,\n",
              "       1.06890557e-02, 1.06872045e-02, 1.06869481e-02, 1.06860346e-02,\n",
              "       1.06828184e-02, 1.06823650e-02, 1.06811097e-02, 1.06797966e-02,\n",
              "       1.06777184e-02, 1.06768869e-02, 1.06756298e-02, 1.06750093e-02,\n",
              "       1.06742462e-02, 1.06723080e-02, 1.06716225e-02, 1.06703399e-02,\n",
              "       1.06687253e-02, 1.06684956e-02, 1.06682149e-02, 1.06677110e-02,\n",
              "       1.05170596e-02, 6.67467326e-03, 6.44334080e-03, 6.04270049e-03,\n",
              "       5.68642731e-03, 5.47382939e-03, 5.43206540e-03, 5.42137306e-03,\n",
              "       5.38928617e-03, 5.38591356e-03, 5.37594945e-03, 5.35634983e-03,\n",
              "       5.34575895e-03, 5.34396524e-03, 5.34049547e-03, 5.33807447e-03,\n",
              "       5.33455216e-03, 5.04656971e-03, 3.34036203e-03, 3.04051645e-03,\n",
              "       2.67830840e-03, 2.54123740e-03, 2.20771412e-03, 1.96261457e-03,\n",
              "       1.68417732e-03, 1.40870803e-03, 1.30491598e-03, 1.14351626e-03,\n",
              "       9.28825369e-04, 7.23276708e-04, 5.31813648e-04, 4.58854330e-04,\n",
              "       4.41087668e-04, 3.44775254e-04, 2.79785240e-04, 2.68734548e-04,\n",
              "       2.44005762e-04, 2.30628159e-04, 7.30475539e-05, 3.08209850e-05,\n",
              "       1.67974795e-05, 1.11379773e-05, 1.43608624e-32, 8.55469170e-33,\n",
              "       7.67816350e-33, 5.77998181e-33, 4.86300139e-33, 4.39341948e-33,\n",
              "       4.10455858e-33, 4.09940944e-33, 3.59437704e-33, 3.25163264e-33,\n",
              "       3.09521948e-33, 2.95614895e-33, 2.89018874e-33, 2.59596530e-33,\n",
              "       2.36431445e-33, 2.33807108e-33, 2.05544179e-33, 1.84394310e-33,\n",
              "       1.69789106e-33, 1.68185559e-33, 1.58971576e-33, 1.48511408e-33,\n",
              "       1.45783318e-33, 1.30342282e-33, 1.26819217e-33, 1.19726155e-33,\n",
              "       1.13394777e-33, 1.12639672e-33, 1.10114710e-33, 1.06829855e-33,\n",
              "       9.83727745e-34, 9.19210531e-34, 9.09241510e-34, 8.72485800e-34,\n",
              "       7.71769513e-34, 7.65060715e-34, 7.47527755e-34, 6.95340943e-34,\n",
              "       6.89786992e-34, 6.74684736e-34, 6.43432114e-34, 6.15071632e-34,\n",
              "       5.91533376e-34, 5.49793251e-34, 5.19477543e-34, 4.83976702e-34,\n",
              "       4.77047255e-34, 4.71317699e-34, 4.50189277e-34, 4.01089568e-34,\n",
              "       3.93265425e-34, 3.89673856e-34, 3.72067208e-34, 3.67723640e-34,\n",
              "       3.66915537e-34, 3.40084374e-34, 3.08572469e-34, 2.82335978e-34,\n",
              "       2.55446267e-34, 2.11622971e-34, 2.00433418e-34, 1.87697716e-34,\n",
              "       1.60383803e-34, 1.39992802e-34, 1.39992802e-34, 1.39992802e-34,\n",
              "       1.39992802e-34, 1.39992802e-34, 1.39992802e-34, 1.39992802e-34,\n",
              "       1.39992802e-34, 1.39992802e-34, 1.39992802e-34, 1.39992802e-34,\n",
              "       1.39992802e-34, 1.39992802e-34, 1.39992802e-34, 1.39992802e-34,\n",
              "       1.39992802e-34, 1.39992802e-34, 1.39992802e-34, 1.39992802e-34,\n",
              "       1.39992802e-34, 1.39992802e-34, 1.39992802e-34, 1.39992802e-34,\n",
              "       1.39992802e-34, 1.39992802e-34, 1.39992802e-34, 1.39992802e-34,\n",
              "       1.39992802e-34, 1.39992802e-34, 1.39992802e-34, 1.39992802e-34,\n",
              "       1.39992802e-34, 1.39992802e-34, 1.39992802e-34, 1.39992802e-34,\n",
              "       1.39992802e-34, 1.39992802e-34, 1.39992802e-34, 1.39992802e-34,\n",
              "       1.39992802e-34, 1.39992802e-34, 1.39992802e-34, 1.39992802e-34,\n",
              "       1.39992802e-34, 1.39992802e-34, 1.39992802e-34, 1.39992802e-34,\n",
              "       1.39992802e-34, 1.39992802e-34, 1.39992802e-34, 1.39992802e-34,\n",
              "       1.39992802e-34, 1.39992802e-34, 1.39992802e-34, 1.39992802e-34,\n",
              "       1.39992802e-34, 1.39992802e-34, 1.39992802e-34, 1.39992802e-34,\n",
              "       1.39992802e-34, 1.39992802e-34, 1.39992802e-34, 1.39992802e-34,\n",
              "       1.39992802e-34, 1.39992802e-34, 1.39992802e-34, 1.39992802e-34,\n",
              "       1.39992802e-34, 1.39992802e-34, 1.39992802e-34, 1.39992802e-34,\n",
              "       1.39992802e-34, 1.39992802e-34, 1.39992802e-34, 1.39992802e-34,\n",
              "       1.39992802e-34, 1.39992802e-34, 1.39992802e-34, 1.39992802e-34,\n",
              "       1.39992802e-34, 1.39992802e-34, 1.39992802e-34, 1.39992802e-34,\n",
              "       1.39992802e-34, 1.39992802e-34, 1.39992802e-34, 1.39992802e-34,\n",
              "       1.39992802e-34, 1.39992802e-34, 1.39992802e-34, 1.39992802e-34,\n",
              "       1.39992802e-34, 1.39992802e-34, 1.39992802e-34, 1.39992802e-34,\n",
              "       1.39992802e-34, 1.39992802e-34, 1.39992802e-34, 1.39992802e-34,\n",
              "       1.39992802e-34, 1.39992802e-34, 1.39992802e-34, 1.39992802e-34,\n",
              "       1.39992802e-34, 1.39992802e-34, 1.39992802e-34, 1.39992802e-34,\n",
              "       1.39992802e-34, 1.39992802e-34, 1.39992802e-34, 1.39992802e-34,\n",
              "       1.39992802e-34, 1.39992802e-34, 1.39992802e-34, 1.39992802e-34,\n",
              "       1.39992802e-34, 1.39992802e-34, 1.39992802e-34, 1.39992802e-34,\n",
              "       1.39992802e-34, 1.39992802e-34, 1.39992802e-34, 1.39992802e-34,\n",
              "       1.39992802e-34, 1.39992802e-34, 1.39992802e-34, 1.39992802e-34,\n",
              "       1.39992802e-34, 1.39992802e-34, 1.39992802e-34, 1.39992802e-34,\n",
              "       1.39992802e-34, 1.39992802e-34, 1.39992802e-34, 1.39992802e-34,\n",
              "       1.39992802e-34, 1.39992802e-34, 1.39992802e-34, 1.39992802e-34,\n",
              "       1.39992802e-34, 1.39992802e-34, 1.39992802e-34, 1.39992802e-34,\n",
              "       1.39992802e-34, 1.39992802e-34, 1.39992802e-34, 1.39992802e-34,\n",
              "       1.39992802e-34, 1.39992802e-34, 1.39992802e-34, 1.39992802e-34,\n",
              "       1.39992802e-34, 1.39992802e-34, 1.39992802e-34, 1.39992802e-34,\n",
              "       1.39992802e-34, 1.39992802e-34, 1.39992802e-34, 1.39992802e-34,\n",
              "       1.39992802e-34, 1.39992802e-34, 1.39992802e-34, 1.39992802e-34,\n",
              "       1.39992802e-34, 1.39992802e-34, 1.39992802e-34, 1.39992802e-34,\n",
              "       1.39992802e-34, 1.39992802e-34, 1.39992802e-34, 1.39992802e-34,\n",
              "       1.39992802e-34, 1.39992802e-34, 1.39992802e-34, 1.39992802e-34,\n",
              "       1.39992802e-34, 1.39992802e-34, 1.39992802e-34, 1.39992802e-34,\n",
              "       1.35008981e-34, 1.11017723e-34, 9.00250331e-35, 8.67726719e-35,\n",
              "       6.83616837e-35, 6.30683268e-35, 6.25364506e-35, 5.34127957e-35,\n",
              "       5.30149359e-35, 3.92280721e-35, 2.76106824e-35, 2.72652571e-35,\n",
              "       1.62230641e-35, 1.22549484e-35, 7.29661960e-36, 2.93521744e-36,\n",
              "       3.80118774e-37])"
            ]
          },
          "metadata": {},
          "execution_count": 9
        }
      ]
    },
    {
      "cell_type": "code",
      "metadata": {
        "colab": {
          "base_uri": "https://localhost:8080/",
          "height": 279
        },
        "id": "Qdp6WYXIz-0N",
        "outputId": "f5fd3421-5211-41f7-9f3f-1a7b6c9762cd"
      },
      "source": [
        "plt.bar(range(1, len(pca.explained_variance_ratio_)+1), pca.explained_variance_ratio_)\n",
        "plt.step(range(1, len(pca.explained_variance_ratio_)+1), np.cumsum(pca.explained_variance_ratio_), where='mid')\n",
        "plt.ylabel('Explained variance ratio')\n",
        "plt.xlabel('Principal components')\n",
        "\n",
        "plt.show()"
      ],
      "execution_count": null,
      "outputs": [
        {
          "output_type": "display_data",
          "data": {
            "image/png": "[encoded data removed]",
            "text/plain": [
              "<Figure size 432x288 with 1 Axes>"
            ]
          },
          "metadata": {
            "needs_background": "light"
          }
        }
      ]
    },
    {
      "cell_type": "markdown",
      "metadata": {
        "id": "TMlqviJq_Ik6"
      },
      "source": [
        "Métricas a serem utilizadas"
      ]
    },
    {
      "cell_type": "code",
      "metadata": {
        "id": "net5Z6NM_Lce"
      },
      "source": [
        "metricas = [\"explained_variance\",\n",
        "            \"neg_mean_absolute_error\",\n",
        "            \"neg_mean_squared_error\",\n",
        "            \"neg_median_absolute_error\",\n",
        "            \"r2\"\n",
        "            ]"
      ],
      "execution_count": null,
      "outputs": []
    },
    {
      "cell_type": "markdown",
      "metadata": {
        "id": "TWTWxsB7x4gK"
      },
      "source": [
        "#Utilizando Pipeline"
      ]
    },
    {
      "cell_type": "markdown",
      "metadata": {
        "id": "BNr-DWPG_Tmo"
      },
      "source": [
        "#Algoritmo KNN"
      ]
    },
    {
      "cell_type": "markdown",
      "metadata": {
        "id": "JHBZILH4_PUM"
      },
      "source": [
        "Definindo valores para k"
      ]
    },
    {
      "cell_type": "code",
      "metadata": {
        "colab": {
          "base_uri": "https://localhost:8080/"
        },
        "id": "MM0bVeRMyaYi",
        "outputId": "8a23d4d6-3268-4712-c68b-f543151631b9"
      },
      "source": [
        "neighbors = np.arange(1, 11)\n",
        "neighbors"
      ],
      "execution_count": null,
      "outputs": [
        {
          "output_type": "execute_result",
          "data": {
            "text/plain": [
              "array([ 1,  2,  3,  4,  5,  6,  7,  8,  9, 10])"
            ]
          },
          "metadata": {},
          "execution_count": 12
        }
      ]
    },
    {
      "cell_type": "code",
      "metadata": {
        "id": "aNdR1PSzpMBB"
      },
      "source": [
        "pipe_knn = Pipeline(steps=[\n",
        "      ('scaler_std', preprocessing.StandardScaler()), #standardização\n",
        "      ('PCA', PCA()), #redução de dimensionalidade\n",
        "      ('imputer', SimpleImputer(strategy='mean')), #substitui valores faltantes pela média\n",
        "      ('knn', KNeighborsRegressor()),\n",
        "])"
      ],
      "execution_count": null,
      "outputs": []
    },
    {
      "cell_type": "code",
      "metadata": {
        "colab": {
          "base_uri": "https://localhost:8080/"
        },
        "id": "wTocRHz_FlNn",
        "outputId": "6d411edf-4f16-4e6c-f15d-d7205b0c4eb0"
      },
      "source": [
        "pipe_knn.get_params().keys()"
      ],
      "execution_count": null,
      "outputs": [
        {
          "output_type": "execute_result",
          "data": {
            "text/plain": [
              "dict_keys(['memory', 'steps', 'verbose', 'scaler_std', 'PCA', 'imputer', 'knn', 'scaler_std__copy', 'scaler_std__with_mean', 'scaler_std__with_std', 'PCA__copy', 'PCA__iterated_power', 'PCA__n_components', 'PCA__random_state', 'PCA__svd_solver', 'PCA__tol', 'PCA__whiten', 'imputer__add_indicator', 'imputer__copy', 'imputer__fill_value', 'imputer__missing_values', 'imputer__strategy', 'imputer__verbose', 'knn__algorithm', 'knn__leaf_size', 'knn__metric', 'knn__metric_params', 'knn__n_jobs', 'knn__n_neighbors', 'knn__p', 'knn__weights'])"
            ]
          },
          "metadata": {},
          "execution_count": 14
        }
      ]
    },
    {
      "cell_type": "markdown",
      "metadata": {
        "id": "GFOxKN7IFiEx"
      },
      "source": [
        "Parâmetros para Grid Search"
      ]
    },
    {
      "cell_type": "code",
      "metadata": {
        "id": "TkSB-uO3FgyX"
      },
      "source": [
        "param_grid_knn = {\"knn__n_neighbors\": neighbors}"
      ],
      "execution_count": null,
      "outputs": []
    },
    {
      "cell_type": "markdown",
      "metadata": {
        "id": "UFI0trpqFyKq"
      },
      "source": [
        "#Utilizando Grid Search"
      ]
    },
    {
      "cell_type": "code",
      "metadata": {
        "id": "KWIu8XklFwPS"
      },
      "source": [
        "grid_knn = GridSearchCV(pipe_knn,\n",
        "                    param_grid=param_grid_knn,\n",
        "                    scoring=metricas,\n",
        "                    refit='neg_mean_absolute_error', #retorna modelo já treinado com melhores parâmetros e métrica escolhida\n",
        "                    cv = 5,\n",
        "                    verbose = 1, #nível de mensagens que serão emitidas\n",
        "                    n_jobs = -1,\n",
        "                    return_train_score=False #não retornar métricas de treino\n",
        ")"
      ],
      "execution_count": null,
      "outputs": []
    },
    {
      "cell_type": "code",
      "metadata": {
        "colab": {
          "base_uri": "https://localhost:8080/"
        },
        "id": "9R2ZAcMaGDJ-",
        "outputId": "115ee845-352c-47ac-f3ae-f13c4097b5b6"
      },
      "source": [
        "grid_knn.fit(X_train, y_train)"
      ],
      "execution_count": null,
      "outputs": [
        {
          "output_type": "stream",
          "text": [
            "Fitting 5 folds for each of 10 candidates, totalling 50 fits\n"
          ],
          "name": "stdout"
        },
        {
          "output_type": "stream",
          "text": [
            "[Parallel(n_jobs=-1)]: Using backend LokyBackend with 2 concurrent workers.\n",
            "[Parallel(n_jobs=-1)]: Done  46 tasks      | elapsed:  1.9min\n",
            "[Parallel(n_jobs=-1)]: Done  50 out of  50 | elapsed:  2.1min finished\n"
          ],
          "name": "stderr"
        },
        {
          "output_type": "execute_result",
          "data": {
            "text/plain": [
              "GridSearchCV(cv=5, error_score=nan,\n",
              "             estimator=Pipeline(memory=None,\n",
              "                                steps=[('scaler_std',\n",
              "                                        StandardScaler(copy=True,\n",
              "                                                       with_mean=True,\n",
              "                                                       with_std=True)),\n",
              "                                       ('PCA',\n",
              "                                        PCA(copy=True, iterated_power='auto',\n",
              "                                            n_components=None,\n",
              "                                            random_state=None,\n",
              "                                            svd_solver='auto', tol=0.0,\n",
              "                                            whiten=False)),\n",
              "                                       ('imputer',\n",
              "                                        SimpleImputer(add_indicator=False,\n",
              "                                                      copy=True,\n",
              "                                                      fill_value=None,\n",
              "                                                      missing_values=na...\n",
              "                                                            n_jobs=None,\n",
              "                                                            n_neighbors=5, p=2,\n",
              "                                                            weights='uniform'))],\n",
              "                                verbose=False),\n",
              "             iid='deprecated', n_jobs=-1,\n",
              "             param_grid={'knn__n_neighbors': array([ 1,  2,  3,  4,  5,  6,  7,  8,  9, 10])},\n",
              "             pre_dispatch='2*n_jobs', refit='neg_mean_absolute_error',\n",
              "             return_train_score=False,\n",
              "             scoring=['explained_variance', 'neg_mean_absolute_error',\n",
              "                      'neg_mean_squared_error', 'neg_median_absolute_error',\n",
              "                      'r2'],\n",
              "             verbose=1)"
            ]
          },
          "metadata": {},
          "execution_count": 17
        }
      ]
    },
    {
      "cell_type": "markdown",
      "metadata": {
        "id": "LeUcePkAGY0U"
      },
      "source": [
        "Mostrando os resultados"
      ]
    },
    {
      "cell_type": "code",
      "metadata": {
        "colab": {
          "base_uri": "https://localhost:8080/",
          "height": 309
        },
        "id": "TvnGuoFhGXTP",
        "outputId": "4df20cf2-a82c-49f4-b0cc-fd19dc4b27d1"
      },
      "source": [
        "results = pd.DataFrame(grid_knn.cv_results_)\n",
        "results.sort_values(by=\"rank_test_neg_mean_absolute_error\").head() #mostra valores ordenadas pela métrica escolhida"
      ],
      "execution_count": null,
      "outputs": [
        {
          "output_type": "execute_result",
          "data": {
            "text/html": [
              "<div>\n",
              "<style scoped>\n",
              "    .dataframe tbody tr th:only-of-type {\n",
              "        vertical-align: middle;\n",
              "    }\n",
              "\n",
              "    .dataframe tbody tr th {\n",
              "        vertical-align: top;\n",
              "    }\n",
              "\n",
              "    .dataframe thead th {\n",
              "        text-align: right;\n",
              "    }\n",
              "</style>\n",
              "<table border=\"1\" class=\"dataframe\">\n",
              "  <thead>\n",
              "    <tr style=\"text-align: right;\">\n",
              "      <th></th>\n",
              "      <th>mean_fit_time</th>\n",
              "      <th>std_fit_time</th>\n",
              "      <th>mean_score_time</th>\n",
              "      <th>std_score_time</th>\n",
              "      <th>param_knn__n_neighbors</th>\n",
              "      <th>params</th>\n",
              "      <th>split0_test_explained_variance</th>\n",
              "      <th>split1_test_explained_variance</th>\n",
              "      <th>split2_test_explained_variance</th>\n",
              "      <th>split3_test_explained_variance</th>\n",
              "      <th>split4_test_explained_variance</th>\n",
              "      <th>mean_test_explained_variance</th>\n",
              "      <th>std_test_explained_variance</th>\n",
              "      <th>rank_test_explained_variance</th>\n",
              "      <th>split0_test_neg_mean_absolute_error</th>\n",
              "      <th>split1_test_neg_mean_absolute_error</th>\n",
              "      <th>split2_test_neg_mean_absolute_error</th>\n",
              "      <th>split3_test_neg_mean_absolute_error</th>\n",
              "      <th>split4_test_neg_mean_absolute_error</th>\n",
              "      <th>mean_test_neg_mean_absolute_error</th>\n",
              "      <th>std_test_neg_mean_absolute_error</th>\n",
              "      <th>rank_test_neg_mean_absolute_error</th>\n",
              "      <th>split0_test_neg_mean_squared_error</th>\n",
              "      <th>split1_test_neg_mean_squared_error</th>\n",
              "      <th>split2_test_neg_mean_squared_error</th>\n",
              "      <th>split3_test_neg_mean_squared_error</th>\n",
              "      <th>split4_test_neg_mean_squared_error</th>\n",
              "      <th>mean_test_neg_mean_squared_error</th>\n",
              "      <th>std_test_neg_mean_squared_error</th>\n",
              "      <th>rank_test_neg_mean_squared_error</th>\n",
              "      <th>split0_test_neg_median_absolute_error</th>\n",
              "      <th>split1_test_neg_median_absolute_error</th>\n",
              "      <th>split2_test_neg_median_absolute_error</th>\n",
              "      <th>split3_test_neg_median_absolute_error</th>\n",
              "      <th>split4_test_neg_median_absolute_error</th>\n",
              "      <th>mean_test_neg_median_absolute_error</th>\n",
              "      <th>std_test_neg_median_absolute_error</th>\n",
              "      <th>rank_test_neg_median_absolute_error</th>\n",
              "      <th>split0_test_r2</th>\n",
              "      <th>split1_test_r2</th>\n",
              "      <th>split2_test_r2</th>\n",
              "      <th>split3_test_r2</th>\n",
              "      <th>split4_test_r2</th>\n",
              "      <th>mean_test_r2</th>\n",
              "      <th>std_test_r2</th>\n",
              "      <th>rank_test_r2</th>\n",
              "    </tr>\n",
              "  </thead>\n",
              "  <tbody>\n",
              "    <tr>\n",
              "      <th>1</th>\n",
              "      <td>2.893859</td>\n",
              "      <td>0.013021</td>\n",
              "      <td>0.946264</td>\n",
              "      <td>0.017994</td>\n",
              "      <td>2</td>\n",
              "      <td>{'knn__n_neighbors': 2}</td>\n",
              "      <td>0.962158</td>\n",
              "      <td>0.969059</td>\n",
              "      <td>0.970221</td>\n",
              "      <td>0.980008</td>\n",
              "      <td>0.976780</td>\n",
              "      <td>0.971645</td>\n",
              "      <td>0.006245</td>\n",
              "      <td>2</td>\n",
              "      <td>-3720.364034</td>\n",
              "      <td>-3720.348183</td>\n",
              "      <td>-3701.417600</td>\n",
              "      <td>-3391.405985</td>\n",
              "      <td>-3448.869637</td>\n",
              "      <td>-3596.481088</td>\n",
              "      <td>145.290503</td>\n",
              "      <td>1</td>\n",
              "      <td>-1.371857e+08</td>\n",
              "      <td>-1.243855e+08</td>\n",
              "      <td>-1.264607e+08</td>\n",
              "      <td>-7.450465e+07</td>\n",
              "      <td>-8.177516e+07</td>\n",
              "      <td>-1.088623e+08</td>\n",
              "      <td>2.556188e+07</td>\n",
              "      <td>2</td>\n",
              "      <td>-1089.500000</td>\n",
              "      <td>-1036.000000</td>\n",
              "      <td>-1091.5</td>\n",
              "      <td>-1129.000000</td>\n",
              "      <td>-1115.500000</td>\n",
              "      <td>-1092.30</td>\n",
              "      <td>31.822319</td>\n",
              "      <td>1</td>\n",
              "      <td>0.962076</td>\n",
              "      <td>0.968906</td>\n",
              "      <td>0.970192</td>\n",
              "      <td>0.980002</td>\n",
              "      <td>0.976767</td>\n",
              "      <td>0.971589</td>\n",
              "      <td>0.006281</td>\n",
              "      <td>2</td>\n",
              "    </tr>\n",
              "    <tr>\n",
              "      <th>0</th>\n",
              "      <td>2.949250</td>\n",
              "      <td>0.049103</td>\n",
              "      <td>0.890297</td>\n",
              "      <td>0.014952</td>\n",
              "      <td>1</td>\n",
              "      <td>{'knn__n_neighbors': 1}</td>\n",
              "      <td>0.962947</td>\n",
              "      <td>0.969382</td>\n",
              "      <td>0.976025</td>\n",
              "      <td>0.977680</td>\n",
              "      <td>0.977156</td>\n",
              "      <td>0.972638</td>\n",
              "      <td>0.005689</td>\n",
              "      <td>1</td>\n",
              "      <td>-3775.682973</td>\n",
              "      <td>-3710.110686</td>\n",
              "      <td>-3728.694179</td>\n",
              "      <td>-3554.724788</td>\n",
              "      <td>-3439.528560</td>\n",
              "      <td>-3641.748237</td>\n",
              "      <td>125.409261</td>\n",
              "      <td>2</td>\n",
              "      <td>-1.340352e+08</td>\n",
              "      <td>-1.228964e+08</td>\n",
              "      <td>-1.017266e+08</td>\n",
              "      <td>-8.316379e+07</td>\n",
              "      <td>-8.041615e+07</td>\n",
              "      <td>-1.044476e+08</td>\n",
              "      <td>2.123061e+07</td>\n",
              "      <td>1</td>\n",
              "      <td>-1078.000000</td>\n",
              "      <td>-1051.000000</td>\n",
              "      <td>-1152.0</td>\n",
              "      <td>-1106.000000</td>\n",
              "      <td>-1132.000000</td>\n",
              "      <td>-1103.80</td>\n",
              "      <td>36.267892</td>\n",
              "      <td>2</td>\n",
              "      <td>0.962947</td>\n",
              "      <td>0.969278</td>\n",
              "      <td>0.976022</td>\n",
              "      <td>0.977678</td>\n",
              "      <td>0.977153</td>\n",
              "      <td>0.972616</td>\n",
              "      <td>0.005700</td>\n",
              "      <td>1</td>\n",
              "    </tr>\n",
              "    <tr>\n",
              "      <th>2</th>\n",
              "      <td>2.913818</td>\n",
              "      <td>0.043804</td>\n",
              "      <td>0.993548</td>\n",
              "      <td>0.022546</td>\n",
              "      <td>3</td>\n",
              "      <td>{'knn__n_neighbors': 3}</td>\n",
              "      <td>0.950789</td>\n",
              "      <td>0.963616</td>\n",
              "      <td>0.960251</td>\n",
              "      <td>0.976636</td>\n",
              "      <td>0.971001</td>\n",
              "      <td>0.964458</td>\n",
              "      <td>0.008904</td>\n",
              "      <td>3</td>\n",
              "      <td>-4171.044001</td>\n",
              "      <td>-4066.392548</td>\n",
              "      <td>-4243.157967</td>\n",
              "      <td>-3719.012481</td>\n",
              "      <td>-3850.064590</td>\n",
              "      <td>-4009.934317</td>\n",
              "      <td>196.840533</td>\n",
              "      <td>3</td>\n",
              "      <td>-1.788163e+08</td>\n",
              "      <td>-1.463944e+08</td>\n",
              "      <td>-1.690774e+08</td>\n",
              "      <td>-8.718997e+07</td>\n",
              "      <td>-1.022037e+08</td>\n",
              "      <td>-1.367364e+08</td>\n",
              "      <td>3.621407e+07</td>\n",
              "      <td>3</td>\n",
              "      <td>-1193.666667</td>\n",
              "      <td>-1123.666667</td>\n",
              "      <td>-1215.0</td>\n",
              "      <td>-1244.333333</td>\n",
              "      <td>-1196.333333</td>\n",
              "      <td>-1194.60</td>\n",
              "      <td>39.812003</td>\n",
              "      <td>3</td>\n",
              "      <td>0.950568</td>\n",
              "      <td>0.963404</td>\n",
              "      <td>0.960147</td>\n",
              "      <td>0.976597</td>\n",
              "      <td>0.970963</td>\n",
              "      <td>0.964336</td>\n",
              "      <td>0.008969</td>\n",
              "      <td>3</td>\n",
              "    </tr>\n",
              "    <tr>\n",
              "      <th>3</th>\n",
              "      <td>2.886739</td>\n",
              "      <td>0.040798</td>\n",
              "      <td>1.041119</td>\n",
              "      <td>0.032350</td>\n",
              "      <td>4</td>\n",
              "      <td>{'knn__n_neighbors': 4}</td>\n",
              "      <td>0.943337</td>\n",
              "      <td>0.959791</td>\n",
              "      <td>0.953602</td>\n",
              "      <td>0.970278</td>\n",
              "      <td>0.963950</td>\n",
              "      <td>0.958192</td>\n",
              "      <td>0.009203</td>\n",
              "      <td>4</td>\n",
              "      <td>-4476.686321</td>\n",
              "      <td>-4367.814772</td>\n",
              "      <td>-4643.037305</td>\n",
              "      <td>-4019.970074</td>\n",
              "      <td>-4225.648948</td>\n",
              "      <td>-4346.631484</td>\n",
              "      <td>212.867966</td>\n",
              "      <td>4</td>\n",
              "      <td>-2.061441e+08</td>\n",
              "      <td>-1.619428e+08</td>\n",
              "      <td>-1.974853e+08</td>\n",
              "      <td>-1.108847e+08</td>\n",
              "      <td>-1.271781e+08</td>\n",
              "      <td>-1.607270e+08</td>\n",
              "      <td>3.748373e+07</td>\n",
              "      <td>4</td>\n",
              "      <td>-1251.000000</td>\n",
              "      <td>-1265.750000</td>\n",
              "      <td>-1308.5</td>\n",
              "      <td>-1300.000000</td>\n",
              "      <td>-1243.000000</td>\n",
              "      <td>-1273.65</td>\n",
              "      <td>26.167537</td>\n",
              "      <td>4</td>\n",
              "      <td>0.943013</td>\n",
              "      <td>0.959517</td>\n",
              "      <td>0.953451</td>\n",
              "      <td>0.970237</td>\n",
              "      <td>0.963867</td>\n",
              "      <td>0.958017</td>\n",
              "      <td>0.009293</td>\n",
              "      <td>4</td>\n",
              "    </tr>\n",
              "    <tr>\n",
              "      <th>4</th>\n",
              "      <td>4.176001</td>\n",
              "      <td>1.128888</td>\n",
              "      <td>1.642202</td>\n",
              "      <td>0.422846</td>\n",
              "      <td>5</td>\n",
              "      <td>{'knn__n_neighbors': 5}</td>\n",
              "      <td>0.936457</td>\n",
              "      <td>0.957505</td>\n",
              "      <td>0.950520</td>\n",
              "      <td>0.967539</td>\n",
              "      <td>0.957643</td>\n",
              "      <td>0.953933</td>\n",
              "      <td>0.010283</td>\n",
              "      <td>5</td>\n",
              "      <td>-4685.642689</td>\n",
              "      <td>-4571.041268</td>\n",
              "      <td>-4935.351790</td>\n",
              "      <td>-4280.898715</td>\n",
              "      <td>-4432.212080</td>\n",
              "      <td>-4581.029309</td>\n",
              "      <td>223.075360</td>\n",
              "      <td>5</td>\n",
              "      <td>-2.310366e+08</td>\n",
              "      <td>-1.708652e+08</td>\n",
              "      <td>-2.104520e+08</td>\n",
              "      <td>-1.210513e+08</td>\n",
              "      <td>-1.493823e+08</td>\n",
              "      <td>-1.765575e+08</td>\n",
              "      <td>3.992153e+07</td>\n",
              "      <td>5</td>\n",
              "      <td>-1266.200000</td>\n",
              "      <td>-1323.600000</td>\n",
              "      <td>-1372.8</td>\n",
              "      <td>-1353.400000</td>\n",
              "      <td>-1290.000000</td>\n",
              "      <td>-1321.20</td>\n",
              "      <td>39.252006</td>\n",
              "      <td>5</td>\n",
              "      <td>0.936132</td>\n",
              "      <td>0.957287</td>\n",
              "      <td>0.950395</td>\n",
              "      <td>0.967508</td>\n",
              "      <td>0.957558</td>\n",
              "      <td>0.953776</td>\n",
              "      <td>0.010373</td>\n",
              "      <td>5</td>\n",
              "    </tr>\n",
              "  </tbody>\n",
              "</table>\n",
              "</div>"
            ],
            "text/plain": [
              "   mean_fit_time  std_fit_time  ...  std_test_r2  rank_test_r2\n",
              "1       2.893859      0.013021  ...     0.006281             2\n",
              "0       2.949250      0.049103  ...     0.005700             1\n",
              "2       2.913818      0.043804  ...     0.008969             3\n",
              "3       2.886739      0.040798  ...     0.009293             4\n",
              "4       4.176001      1.128888  ...     0.010373             5\n",
              "\n",
              "[5 rows x 46 columns]"
            ]
          },
          "metadata": {},
          "execution_count": 20
        }
      ]
    },
    {
      "cell_type": "code",
      "metadata": {
        "colab": {
          "base_uri": "https://localhost:8080/"
        },
        "id": "w1x-UWF94fIA",
        "outputId": "19b47d13-ce94-4e0a-b953-bb1ade00a524"
      },
      "source": [
        "score_knn = grid_knn.best_score_\n",
        "score_knn"
      ],
      "execution_count": null,
      "outputs": [
        {
          "output_type": "execute_result",
          "data": {
            "text/plain": [
              "-3596.4810877288874"
            ]
          },
          "metadata": {},
          "execution_count": 21
        }
      ]
    },
    {
      "cell_type": "markdown",
      "metadata": {
        "id": "pzZ3ZKowWg1d"
      },
      "source": [
        "Usando predict"
      ]
    },
    {
      "cell_type": "code",
      "metadata": {
        "id": "tlxCt2UtXE-t"
      },
      "source": [
        "model_1 = grid_knn.best_estimator_\n",
        "y_pred_knn = model_1.predict(X_test)"
      ],
      "execution_count": null,
      "outputs": []
    },
    {
      "cell_type": "markdown",
      "metadata": {
        "id": "w12Np4CW_kf4"
      },
      "source": [
        "#Algoritmo SVM"
      ]
    },
    {
      "cell_type": "markdown",
      "metadata": {
        "id": "7YjwFPllp1Xc"
      },
      "source": [
        "Utilizando Pipeline"
      ]
    },
    {
      "cell_type": "code",
      "metadata": {
        "id": "k8sGmSTkC1F6"
      },
      "source": [
        "pipe_svm = Pipeline(steps=[\n",
        "      ('scaler_std', preprocessing.StandardScaler()), #standardização\n",
        "      ('PCA', PCA()), #redução de dimensionalidade\n",
        "      ('imputer', SimpleImputer(strategy='mean')), #substitui valores faltantes pela média\n",
        "      ('svm', SVC()),\n",
        "])"
      ],
      "execution_count": null,
      "outputs": []
    },
    {
      "cell_type": "code",
      "metadata": {
        "colab": {
          "base_uri": "https://localhost:8080/"
        },
        "id": "qqPQcAvCFRt9",
        "outputId": "b3d9caab-f890-4f20-da48-2048a34023bc"
      },
      "source": [
        "pipe_svm.get_params().keys()"
      ],
      "execution_count": null,
      "outputs": [
        {
          "output_type": "execute_result",
          "data": {
            "text/plain": [
              "dict_keys(['memory', 'steps', 'verbose', 'scaler_std', 'PCA', 'imputer', 'svm', 'scaler_std__copy', 'scaler_std__with_mean', 'scaler_std__with_std', 'PCA__copy', 'PCA__iterated_power', 'PCA__n_components', 'PCA__random_state', 'PCA__svd_solver', 'PCA__tol', 'PCA__whiten', 'imputer__add_indicator', 'imputer__copy', 'imputer__fill_value', 'imputer__missing_values', 'imputer__strategy', 'imputer__verbose', 'svm__C', 'svm__break_ties', 'svm__cache_size', 'svm__class_weight', 'svm__coef0', 'svm__decision_function_shape', 'svm__degree', 'svm__gamma', 'svm__kernel', 'svm__max_iter', 'svm__probability', 'svm__random_state', 'svm__shrinking', 'svm__tol', 'svm__verbose'])"
            ]
          },
          "metadata": {},
          "execution_count": 21
        }
      ]
    },
    {
      "cell_type": "markdown",
      "metadata": {
        "id": "9U2lSfg9BNvh"
      },
      "source": [
        "Parâmetros para Grid Search"
      ]
    },
    {
      "cell_type": "code",
      "metadata": {
        "id": "WKv7Fq-NzBD7"
      },
      "source": [
        "C = np.logspace(3, -3, num=10, endpoint=False)\n",
        "param_grid_svm = {\"svm__C\": C}"
      ],
      "execution_count": null,
      "outputs": []
    },
    {
      "cell_type": "markdown",
      "metadata": {
        "id": "UiJyctCDDVIz"
      },
      "source": [
        "Utilizando Grid Search"
      ]
    },
    {
      "cell_type": "code",
      "metadata": {
        "id": "HN4FFXOWDTwu"
      },
      "source": [
        "grid_svm = GridSearchCV(pipe_svm,\n",
        "                    param_grid=param_grid_svm,\n",
        "                    scoring=metricas,\n",
        "                    refit='neg_mean_absolute_error', #retorna modelo já treinado com melhores parâmetros e métrica escolhida\n",
        "                    cv = 5,\n",
        "                    verbose = 1, #nível de mensagens que serão emitidas\n",
        "                    n_jobs = -1,\n",
        "                    return_train_score=False #não retornar métricas de treino\n",
        ")"
      ],
      "execution_count": null,
      "outputs": []
    },
    {
      "cell_type": "code",
      "metadata": {
        "id": "1rQ8SviBDpos"
      },
      "source": [
        "grid_svm.fit(X_train, y_train)"
      ],
      "execution_count": null,
      "outputs": []
    },
    {
      "cell_type": "markdown",
      "metadata": {
        "id": "UTmmInGf8zIG"
      },
      "source": [
        "Mostrando resultados"
      ]
    },
    {
      "cell_type": "code",
      "metadata": {
        "id": "MUCW9lwj8yLv"
      },
      "source": [
        "results = pd.DataFrame(grid_svm.cv_results_)\n",
        "results.sort_values(by=\"rank_test_neg_mean_absolute_error\").head() #mostra valores ordenadas pela métrica escolhida"
      ],
      "execution_count": null,
      "outputs": []
    },
    {
      "cell_type": "markdown",
      "metadata": {
        "id": "tLKhvE9i9DL-"
      },
      "source": [
        "Melhor score"
      ]
    },
    {
      "cell_type": "code",
      "metadata": {
        "id": "kgeNXaVQ87nL"
      },
      "source": [
        "score_svm = grid_svm.best_score_"
      ],
      "execution_count": null,
      "outputs": []
    },
    {
      "cell_type": "markdown",
      "metadata": {
        "id": "zAqV08Rh9LsT"
      },
      "source": [
        "Usando predict"
      ]
    },
    {
      "cell_type": "code",
      "metadata": {
        "id": "GFVmLkY-9ISc"
      },
      "source": [
        "model_2 = grid_svm.best_estimator_\n",
        "y_pred_svm = model_2.predict(X_test)"
      ],
      "execution_count": null,
      "outputs": []
    },
    {
      "cell_type": "markdown",
      "metadata": {
        "id": "n24YDaq0U4Jg"
      },
      "source": [
        "#Algoritmo Decision Tree"
      ]
    },
    {
      "cell_type": "code",
      "metadata": {
        "id": "CikIKC0hSy2l"
      },
      "source": [
        "pipe_tree = Pipeline(steps=[\n",
        "      ('scaler_std', preprocessing.StandardScaler()), #standardização\n",
        "      ('PCA', PCA()), #redução de dimensionalidade\n",
        "      ('imputer', SimpleImputer(strategy='mean')), #substitui valores faltantes pela média\n",
        "      ('DecisionTree', tree.DecisionTreeRegressor()),\n",
        "])"
      ],
      "execution_count": null,
      "outputs": []
    },
    {
      "cell_type": "code",
      "metadata": {
        "id": "V_6clZIVThep",
        "colab": {
          "base_uri": "https://localhost:8080/"
        },
        "outputId": "99ece4e9-2644-42f1-ddd2-1b66125bc67e"
      },
      "source": [
        "pipe_tree.get_params().keys()"
      ],
      "execution_count": null,
      "outputs": [
        {
          "output_type": "execute_result",
          "data": {
            "text/plain": [
              "dict_keys(['memory', 'steps', 'verbose', 'scaler_std', 'PCA', 'imputer', 'DecisionTree', 'scaler_std__copy', 'scaler_std__with_mean', 'scaler_std__with_std', 'PCA__copy', 'PCA__iterated_power', 'PCA__n_components', 'PCA__random_state', 'PCA__svd_solver', 'PCA__tol', 'PCA__whiten', 'imputer__add_indicator', 'imputer__copy', 'imputer__fill_value', 'imputer__missing_values', 'imputer__strategy', 'imputer__verbose', 'DecisionTree__ccp_alpha', 'DecisionTree__criterion', 'DecisionTree__max_depth', 'DecisionTree__max_features', 'DecisionTree__max_leaf_nodes', 'DecisionTree__min_impurity_decrease', 'DecisionTree__min_impurity_split', 'DecisionTree__min_samples_leaf', 'DecisionTree__min_samples_split', 'DecisionTree__min_weight_fraction_leaf', 'DecisionTree__presort', 'DecisionTree__random_state', 'DecisionTree__splitter'])"
            ]
          },
          "metadata": {},
          "execution_count": 25
        }
      ]
    },
    {
      "cell_type": "markdown",
      "metadata": {
        "id": "EzhoGSOfT0Dp"
      },
      "source": [
        "Parâmetros para o Grid Search"
      ]
    },
    {
      "cell_type": "code",
      "metadata": {
        "id": "iStwHERsT714"
      },
      "source": [
        "minSamplesSplit = np.arange(1,5)\n",
        "minSamplesLeaf = np.arange(1,5)\n",
        "\n",
        "param_grid_tree = {'DecisionTree__min_samples_split':minSamplesSplit,\n",
        "                   'DecisionTree__min_samples_leaf': minSamplesLeaf\n",
        "}"
      ],
      "execution_count": null,
      "outputs": []
    },
    {
      "cell_type": "markdown",
      "metadata": {
        "id": "AkHsTsweT9Vk"
      },
      "source": [
        "#Utilizando Grid Search"
      ]
    },
    {
      "cell_type": "code",
      "metadata": {
        "id": "09Ty0UQ0UDe2"
      },
      "source": [
        "grid_tree = GridSearchCV(pipe_tree,\n",
        "                    param_grid=param_grid_tree,\n",
        "                    scoring=metricas,\n",
        "                    refit='neg_mean_absolute_error', #retorna modelo já treinado com melhores parâmetros e métrica escolhida\n",
        "                    cv = 5,\n",
        "                    verbose = 1, #nível de mensagens que serão emitidas\n",
        "                    n_jobs = -1,\n",
        "                    return_train_score=False #não retornar métricas de treino\n",
        ")"
      ],
      "execution_count": null,
      "outputs": []
    },
    {
      "cell_type": "code",
      "metadata": {
        "id": "O7DE7PVgU0PN",
        "colab": {
          "base_uri": "https://localhost:8080/"
        },
        "outputId": "7539f125-50f3-4e66-f7c6-148192bace30"
      },
      "source": [
        "grid_tree.fit(X_train, y_train)"
      ],
      "execution_count": null,
      "outputs": [
        {
          "output_type": "stream",
          "text": [
            "Fitting 5 folds for each of 16 candidates, totalling 80 fits\n"
          ],
          "name": "stdout"
        },
        {
          "output_type": "stream",
          "text": [
            "[Parallel(n_jobs=-1)]: Using backend LokyBackend with 2 concurrent workers.\n",
            "[Parallel(n_jobs=-1)]: Done  46 tasks      | elapsed:  2.5min\n",
            "[Parallel(n_jobs=-1)]: Done  80 out of  80 | elapsed:  4.1min finished\n"
          ],
          "name": "stderr"
        },
        {
          "output_type": "execute_result",
          "data": {
            "text/plain": [
              "GridSearchCV(cv=5, error_score=nan,\n",
              "             estimator=Pipeline(memory=None,\n",
              "                                steps=[('scaler_std',\n",
              "                                        StandardScaler(copy=True,\n",
              "                                                       with_mean=True,\n",
              "                                                       with_std=True)),\n",
              "                                       ('PCA',\n",
              "                                        PCA(copy=True, iterated_power='auto',\n",
              "                                            n_components=None,\n",
              "                                            random_state=None,\n",
              "                                            svd_solver='auto', tol=0.0,\n",
              "                                            whiten=False)),\n",
              "                                       ('imputer',\n",
              "                                        SimpleImputer(add_indicator=False,\n",
              "                                                      copy=True,\n",
              "                                                      fill_value=None,\n",
              "                                                      missing_values=na...\n",
              "                                verbose=False),\n",
              "             iid='deprecated', n_jobs=-1,\n",
              "             param_grid={'DecisionTree__min_samples_leaf': array([1, 2, 3, 4]),\n",
              "                         'DecisionTree__min_samples_split': array([1, 2, 3, 4])},\n",
              "             pre_dispatch='2*n_jobs', refit='neg_mean_absolute_error',\n",
              "             return_train_score=False,\n",
              "             scoring=['explained_variance', 'neg_mean_absolute_error',\n",
              "                      'neg_mean_squared_error', 'neg_median_absolute_error',\n",
              "                      'r2'],\n",
              "             verbose=1)"
            ]
          },
          "metadata": {},
          "execution_count": 28
        }
      ]
    },
    {
      "cell_type": "markdown",
      "metadata": {
        "id": "ffcP6RcIViB4"
      },
      "source": [
        "Mostrando Resultados"
      ]
    },
    {
      "cell_type": "code",
      "metadata": {
        "id": "AENKnK0nVg73",
        "colab": {
          "base_uri": "https://localhost:8080/",
          "height": 309
        },
        "outputId": "f23046c1-5e39-4e46-8d6b-f18eed5430be"
      },
      "source": [
        "results = pd.DataFrame(grid_tree.cv_results_)\n",
        "results.sort_values(by=\"rank_test_neg_mean_absolute_error\").head() #mostra valores ordenadas pela métrica escolhida"
      ],
      "execution_count": null,
      "outputs": [
        {
          "output_type": "execute_result",
          "data": {
            "text/html": [
              "<div>\n",
              "<style scoped>\n",
              "    .dataframe tbody tr th:only-of-type {\n",
              "        vertical-align: middle;\n",
              "    }\n",
              "\n",
              "    .dataframe tbody tr th {\n",
              "        vertical-align: top;\n",
              "    }\n",
              "\n",
              "    .dataframe thead th {\n",
              "        text-align: right;\n",
              "    }\n",
              "</style>\n",
              "<table border=\"1\" class=\"dataframe\">\n",
              "  <thead>\n",
              "    <tr style=\"text-align: right;\">\n",
              "      <th></th>\n",
              "      <th>mean_fit_time</th>\n",
              "      <th>std_fit_time</th>\n",
              "      <th>mean_score_time</th>\n",
              "      <th>std_score_time</th>\n",
              "      <th>param_DecisionTree__min_samples_leaf</th>\n",
              "      <th>param_DecisionTree__min_samples_split</th>\n",
              "      <th>params</th>\n",
              "      <th>split0_test_explained_variance</th>\n",
              "      <th>split1_test_explained_variance</th>\n",
              "      <th>split2_test_explained_variance</th>\n",
              "      <th>split3_test_explained_variance</th>\n",
              "      <th>split4_test_explained_variance</th>\n",
              "      <th>mean_test_explained_variance</th>\n",
              "      <th>std_test_explained_variance</th>\n",
              "      <th>rank_test_explained_variance</th>\n",
              "      <th>split0_test_neg_mean_absolute_error</th>\n",
              "      <th>split1_test_neg_mean_absolute_error</th>\n",
              "      <th>split2_test_neg_mean_absolute_error</th>\n",
              "      <th>split3_test_neg_mean_absolute_error</th>\n",
              "      <th>split4_test_neg_mean_absolute_error</th>\n",
              "      <th>mean_test_neg_mean_absolute_error</th>\n",
              "      <th>std_test_neg_mean_absolute_error</th>\n",
              "      <th>rank_test_neg_mean_absolute_error</th>\n",
              "      <th>split0_test_neg_mean_squared_error</th>\n",
              "      <th>split1_test_neg_mean_squared_error</th>\n",
              "      <th>split2_test_neg_mean_squared_error</th>\n",
              "      <th>split3_test_neg_mean_squared_error</th>\n",
              "      <th>split4_test_neg_mean_squared_error</th>\n",
              "      <th>mean_test_neg_mean_squared_error</th>\n",
              "      <th>std_test_neg_mean_squared_error</th>\n",
              "      <th>rank_test_neg_mean_squared_error</th>\n",
              "      <th>split0_test_neg_median_absolute_error</th>\n",
              "      <th>split1_test_neg_median_absolute_error</th>\n",
              "      <th>split2_test_neg_median_absolute_error</th>\n",
              "      <th>split3_test_neg_median_absolute_error</th>\n",
              "      <th>split4_test_neg_median_absolute_error</th>\n",
              "      <th>mean_test_neg_median_absolute_error</th>\n",
              "      <th>std_test_neg_median_absolute_error</th>\n",
              "      <th>rank_test_neg_median_absolute_error</th>\n",
              "      <th>split0_test_r2</th>\n",
              "      <th>split1_test_r2</th>\n",
              "      <th>split2_test_r2</th>\n",
              "      <th>split3_test_r2</th>\n",
              "      <th>split4_test_r2</th>\n",
              "      <th>mean_test_r2</th>\n",
              "      <th>std_test_r2</th>\n",
              "      <th>rank_test_r2</th>\n",
              "    </tr>\n",
              "  </thead>\n",
              "  <tbody>\n",
              "    <tr>\n",
              "      <th>2</th>\n",
              "      <td>7.373779</td>\n",
              "      <td>1.057830</td>\n",
              "      <td>0.103462</td>\n",
              "      <td>0.007465</td>\n",
              "      <td>1</td>\n",
              "      <td>3</td>\n",
              "      <td>{'DecisionTree__min_samples_leaf': 1, 'Decisio...</td>\n",
              "      <td>0.949733</td>\n",
              "      <td>0.974349</td>\n",
              "      <td>0.969472</td>\n",
              "      <td>0.975437</td>\n",
              "      <td>0.976830</td>\n",
              "      <td>0.969164</td>\n",
              "      <td>0.010026</td>\n",
              "      <td>3</td>\n",
              "      <td>-3911.734900</td>\n",
              "      <td>-3691.403526</td>\n",
              "      <td>-3869.562585</td>\n",
              "      <td>-3637.019814</td>\n",
              "      <td>-3488.623121</td>\n",
              "      <td>-3719.668789</td>\n",
              "      <td>155.157610</td>\n",
              "      <td>1</td>\n",
              "      <td>-1.818560e+08</td>\n",
              "      <td>-1.028461e+08</td>\n",
              "      <td>-1.295159e+08</td>\n",
              "      <td>-9.151654e+07</td>\n",
              "      <td>-8.155447e+07</td>\n",
              "      <td>-1.174578e+08</td>\n",
              "      <td>3.596671e+07</td>\n",
              "      <td>3</td>\n",
              "      <td>-1095.0</td>\n",
              "      <td>-1063.000000</td>\n",
              "      <td>-1147.5</td>\n",
              "      <td>-1120.0</td>\n",
              "      <td>-1130.500000</td>\n",
              "      <td>-1111.200000</td>\n",
              "      <td>29.506948</td>\n",
              "      <td>2</td>\n",
              "      <td>0.949727</td>\n",
              "      <td>0.974290</td>\n",
              "      <td>0.969472</td>\n",
              "      <td>0.975436</td>\n",
              "      <td>0.976829</td>\n",
              "      <td>0.969151</td>\n",
              "      <td>0.010022</td>\n",
              "      <td>3</td>\n",
              "    </tr>\n",
              "    <tr>\n",
              "      <th>1</th>\n",
              "      <td>7.471850</td>\n",
              "      <td>0.840381</td>\n",
              "      <td>0.103547</td>\n",
              "      <td>0.006918</td>\n",
              "      <td>1</td>\n",
              "      <td>2</td>\n",
              "      <td>{'DecisionTree__min_samples_leaf': 1, 'Decisio...</td>\n",
              "      <td>0.948074</td>\n",
              "      <td>0.976300</td>\n",
              "      <td>0.975186</td>\n",
              "      <td>0.971635</td>\n",
              "      <td>0.975507</td>\n",
              "      <td>0.969341</td>\n",
              "      <td>0.010753</td>\n",
              "      <td>2</td>\n",
              "      <td>-3896.465974</td>\n",
              "      <td>-3667.050560</td>\n",
              "      <td>-3830.653457</td>\n",
              "      <td>-3752.890407</td>\n",
              "      <td>-3496.985788</td>\n",
              "      <td>-3728.809237</td>\n",
              "      <td>139.008759</td>\n",
              "      <td>2</td>\n",
              "      <td>-1.878382e+08</td>\n",
              "      <td>-9.507618e+07</td>\n",
              "      <td>-1.052738e+08</td>\n",
              "      <td>-1.056769e+08</td>\n",
              "      <td>-8.620702e+07</td>\n",
              "      <td>-1.160144e+08</td>\n",
              "      <td>3.662722e+07</td>\n",
              "      <td>2</td>\n",
              "      <td>-1078.0</td>\n",
              "      <td>-1057.000000</td>\n",
              "      <td>-1161.0</td>\n",
              "      <td>-1114.0</td>\n",
              "      <td>-1113.000000</td>\n",
              "      <td>-1104.600000</td>\n",
              "      <td>35.533646</td>\n",
              "      <td>1</td>\n",
              "      <td>0.948074</td>\n",
              "      <td>0.976233</td>\n",
              "      <td>0.975186</td>\n",
              "      <td>0.971635</td>\n",
              "      <td>0.975507</td>\n",
              "      <td>0.969327</td>\n",
              "      <td>0.010745</td>\n",
              "      <td>2</td>\n",
              "    </tr>\n",
              "    <tr>\n",
              "      <th>3</th>\n",
              "      <td>6.719053</td>\n",
              "      <td>0.397282</td>\n",
              "      <td>0.112858</td>\n",
              "      <td>0.014866</td>\n",
              "      <td>1</td>\n",
              "      <td>4</td>\n",
              "      <td>{'DecisionTree__min_samples_leaf': 1, 'Decisio...</td>\n",
              "      <td>0.953130</td>\n",
              "      <td>0.974249</td>\n",
              "      <td>0.973688</td>\n",
              "      <td>0.977980</td>\n",
              "      <td>0.974944</td>\n",
              "      <td>0.970798</td>\n",
              "      <td>0.008958</td>\n",
              "      <td>1</td>\n",
              "      <td>-3944.456227</td>\n",
              "      <td>-3731.235037</td>\n",
              "      <td>-3924.441150</td>\n",
              "      <td>-3548.278081</td>\n",
              "      <td>-3658.700282</td>\n",
              "      <td>-3761.422155</td>\n",
              "      <td>152.951041</td>\n",
              "      <td>3</td>\n",
              "      <td>-1.695980e+08</td>\n",
              "      <td>-1.031809e+08</td>\n",
              "      <td>-1.116330e+08</td>\n",
              "      <td>-8.206133e+07</td>\n",
              "      <td>-8.820019e+07</td>\n",
              "      <td>-1.109347e+08</td>\n",
              "      <td>3.115290e+07</td>\n",
              "      <td>1</td>\n",
              "      <td>-1095.0</td>\n",
              "      <td>-1067.000000</td>\n",
              "      <td>-1138.5</td>\n",
              "      <td>-1109.0</td>\n",
              "      <td>-1157.666667</td>\n",
              "      <td>-1113.433333</td>\n",
              "      <td>31.938761</td>\n",
              "      <td>3</td>\n",
              "      <td>0.953116</td>\n",
              "      <td>0.974207</td>\n",
              "      <td>0.973687</td>\n",
              "      <td>0.977974</td>\n",
              "      <td>0.974941</td>\n",
              "      <td>0.970785</td>\n",
              "      <td>0.008959</td>\n",
              "      <td>1</td>\n",
              "    </tr>\n",
              "    <tr>\n",
              "      <th>7</th>\n",
              "      <td>8.190604</td>\n",
              "      <td>1.725444</td>\n",
              "      <td>0.136230</td>\n",
              "      <td>0.051671</td>\n",
              "      <td>2</td>\n",
              "      <td>4</td>\n",
              "      <td>{'DecisionTree__min_samples_leaf': 2, 'Decisio...</td>\n",
              "      <td>0.948441</td>\n",
              "      <td>0.963475</td>\n",
              "      <td>0.970316</td>\n",
              "      <td>0.972505</td>\n",
              "      <td>0.975049</td>\n",
              "      <td>0.965957</td>\n",
              "      <td>0.009566</td>\n",
              "      <td>4</td>\n",
              "      <td>-4086.142389</td>\n",
              "      <td>-3924.659288</td>\n",
              "      <td>-4148.313792</td>\n",
              "      <td>-3813.365491</td>\n",
              "      <td>-3644.641295</td>\n",
              "      <td>-3923.424451</td>\n",
              "      <td>182.694767</td>\n",
              "      <td>4</td>\n",
              "      <td>-1.865797e+08</td>\n",
              "      <td>-1.461876e+08</td>\n",
              "      <td>-1.259502e+08</td>\n",
              "      <td>-1.024373e+08</td>\n",
              "      <td>-8.782129e+07</td>\n",
              "      <td>-1.297952e+08</td>\n",
              "      <td>3.469362e+07</td>\n",
              "      <td>4</td>\n",
              "      <td>-1110.5</td>\n",
              "      <td>-1081.000000</td>\n",
              "      <td>-1171.0</td>\n",
              "      <td>-1178.5</td>\n",
              "      <td>-1163.500000</td>\n",
              "      <td>-1140.900000</td>\n",
              "      <td>38.321534</td>\n",
              "      <td>4</td>\n",
              "      <td>0.948422</td>\n",
              "      <td>0.963456</td>\n",
              "      <td>0.970313</td>\n",
              "      <td>0.972505</td>\n",
              "      <td>0.975049</td>\n",
              "      <td>0.965949</td>\n",
              "      <td>0.009573</td>\n",
              "      <td>4</td>\n",
              "    </tr>\n",
              "    <tr>\n",
              "      <th>6</th>\n",
              "      <td>9.881660</td>\n",
              "      <td>0.715941</td>\n",
              "      <td>0.146168</td>\n",
              "      <td>0.025466</td>\n",
              "      <td>2</td>\n",
              "      <td>3</td>\n",
              "      <td>{'DecisionTree__min_samples_leaf': 2, 'Decisio...</td>\n",
              "      <td>0.953055</td>\n",
              "      <td>0.964435</td>\n",
              "      <td>0.961766</td>\n",
              "      <td>0.972402</td>\n",
              "      <td>0.975129</td>\n",
              "      <td>0.965357</td>\n",
              "      <td>0.007877</td>\n",
              "      <td>5</td>\n",
              "      <td>-4018.526373</td>\n",
              "      <td>-3911.805457</td>\n",
              "      <td>-4250.437278</td>\n",
              "      <td>-3815.138289</td>\n",
              "      <td>-3648.704473</td>\n",
              "      <td>-3928.922374</td>\n",
              "      <td>201.575092</td>\n",
              "      <td>5</td>\n",
              "      <td>-1.699263e+08</td>\n",
              "      <td>-1.423355e+08</td>\n",
              "      <td>-1.622115e+08</td>\n",
              "      <td>-1.028295e+08</td>\n",
              "      <td>-8.754189e+07</td>\n",
              "      <td>-1.329689e+08</td>\n",
              "      <td>3.249833e+07</td>\n",
              "      <td>5</td>\n",
              "      <td>-1110.5</td>\n",
              "      <td>-1080.666667</td>\n",
              "      <td>-1184.5</td>\n",
              "      <td>-1179.5</td>\n",
              "      <td>-1178.666667</td>\n",
              "      <td>-1146.766667</td>\n",
              "      <td>42.889082</td>\n",
              "      <td>6</td>\n",
              "      <td>0.953025</td>\n",
              "      <td>0.964419</td>\n",
              "      <td>0.961765</td>\n",
              "      <td>0.972399</td>\n",
              "      <td>0.975128</td>\n",
              "      <td>0.965347</td>\n",
              "      <td>0.007886</td>\n",
              "      <td>5</td>\n",
              "    </tr>\n",
              "  </tbody>\n",
              "</table>\n",
              "</div>"
            ],
            "text/plain": [
              "   mean_fit_time  std_fit_time  ...  std_test_r2  rank_test_r2\n",
              "2       7.373779      1.057830  ...     0.010022             3\n",
              "1       7.471850      0.840381  ...     0.010745             2\n",
              "3       6.719053      0.397282  ...     0.008959             1\n",
              "7       8.190604      1.725444  ...     0.009573             4\n",
              "6       9.881660      0.715941  ...     0.007886             5\n",
              "\n",
              "[5 rows x 47 columns]"
            ]
          },
          "metadata": {},
          "execution_count": 29
        }
      ]
    },
    {
      "cell_type": "markdown",
      "metadata": {
        "id": "JFpPLBjlV96U"
      },
      "source": [
        "Melhor score"
      ]
    },
    {
      "cell_type": "code",
      "metadata": {
        "id": "Ctt5Tw5nV7Ph",
        "colab": {
          "base_uri": "https://localhost:8080/"
        },
        "outputId": "54e296e0-b818-4903-a744-790d9ce32d7c"
      },
      "source": [
        "score_tree = grid_tree.best_score_\n",
        "score_tree"
      ],
      "execution_count": null,
      "outputs": [
        {
          "output_type": "execute_result",
          "data": {
            "text/plain": [
              "-3719.6687892866903"
            ]
          },
          "metadata": {},
          "execution_count": 30
        }
      ]
    },
    {
      "cell_type": "markdown",
      "metadata": {
        "id": "MeHroLj1W7eI"
      },
      "source": [
        "Usando predict"
      ]
    },
    {
      "cell_type": "code",
      "metadata": {
        "id": "yjCyHwoiWHea"
      },
      "source": [
        "model_3 = grid_tree.best_estimator_\n",
        "y_pred_tree = model_3.predict(X_test)"
      ],
      "execution_count": null,
      "outputs": []
    },
    {
      "cell_type": "markdown",
      "metadata": {
        "id": "vFpQm9WfalS-"
      },
      "source": [
        "#Algoritmo Random Forest"
      ]
    },
    {
      "cell_type": "markdown",
      "metadata": {
        "id": "r81Q31CWfxZs"
      },
      "source": [
        "Utilizando Pipeline"
      ]
    },
    {
      "cell_type": "code",
      "metadata": {
        "id": "zAF6wBfiapIv"
      },
      "source": [
        "pipe_RF = Pipeline(steps=[\n",
        "      ('scaler_std', preprocessing.StandardScaler()), #standardização\n",
        "      ('PCA', PCA()), #redução de dimensionalidade\n",
        "      ('imputer', SimpleImputer(strategy='mean')), #substitui valores faltantes pela média\n",
        "      ('RandomForest', RandomForestRegressor()),\n",
        "])"
      ],
      "execution_count": null,
      "outputs": []
    },
    {
      "cell_type": "code",
      "metadata": {
        "id": "cdNkXeMvbZa4",
        "colab": {
          "base_uri": "https://localhost:8080/"
        },
        "outputId": "ecde65d0-5e98-4f38-bcf0-d18062d1841a"
      },
      "source": [
        "pipe_RF.get_params().keys()"
      ],
      "execution_count": null,
      "outputs": [
        {
          "output_type": "execute_result",
          "data": {
            "text/plain": [
              "dict_keys(['memory', 'steps', 'verbose', 'scaler_std', 'PCA', 'imputer', 'RandomForest', 'scaler_std__copy', 'scaler_std__with_mean', 'scaler_std__with_std', 'PCA__copy', 'PCA__iterated_power', 'PCA__n_components', 'PCA__random_state', 'PCA__svd_solver', 'PCA__tol', 'PCA__whiten', 'imputer__add_indicator', 'imputer__copy', 'imputer__fill_value', 'imputer__missing_values', 'imputer__strategy', 'imputer__verbose', 'RandomForest__bootstrap', 'RandomForest__ccp_alpha', 'RandomForest__criterion', 'RandomForest__max_depth', 'RandomForest__max_features', 'RandomForest__max_leaf_nodes', 'RandomForest__max_samples', 'RandomForest__min_impurity_decrease', 'RandomForest__min_impurity_split', 'RandomForest__min_samples_leaf', 'RandomForest__min_samples_split', 'RandomForest__min_weight_fraction_leaf', 'RandomForest__n_estimators', 'RandomForest__n_jobs', 'RandomForest__oob_score', 'RandomForest__random_state', 'RandomForest__verbose', 'RandomForest__warm_start'])"
            ]
          },
          "metadata": {},
          "execution_count": 11
        }
      ]
    },
    {
      "cell_type": "markdown",
      "metadata": {
        "id": "aYhxOoJybhA1"
      },
      "source": [
        "Parâmetros para o Grid Search"
      ]
    },
    {
      "cell_type": "code",
      "metadata": {
        "id": "S7bKR5G8bgCP"
      },
      "source": [
        "num_estimators = np.arange(100,200)\n",
        "minSamplesSplit = np.arange(1,5)\n",
        "minSamplesLeaf = np.arange(1,5)\n",
        "\n",
        "param_grid_RF = {'RandomForest__n_estimators': num_estimators,\n",
        "                 'RandomForest__min_samples_split':minSamplesSplit,\n",
        "                 'RandomForest__min_samples_leaf': minSamplesLeaf\n",
        "}"
      ],
      "execution_count": null,
      "outputs": []
    },
    {
      "cell_type": "markdown",
      "metadata": {
        "id": "KZbdgZ4JcuKv"
      },
      "source": [
        "Utilizando Grid Search"
      ]
    },
    {
      "cell_type": "code",
      "metadata": {
        "id": "cZfw8xS9ckH6"
      },
      "source": [
        "grid_RF = GridSearchCV(pipe_RF,\n",
        "                    param_grid=param_grid_RF,\n",
        "                    scoring=metricas,\n",
        "                    refit='neg_mean_absolute_error', #retorna modelo já treinado com melhores parâmetros e métrica escolhida\n",
        "                    cv = 5,\n",
        "                    verbose = 1, #nível de mensagens que serão emitidas\n",
        "                    n_jobs = -1,\n",
        "                    return_train_score=False #não retornar métricas de treino\n",
        ")"
      ],
      "execution_count": null,
      "outputs": []
    },
    {
      "cell_type": "code",
      "metadata": {
        "id": "_QPjXzM1c4_7"
      },
      "source": [
        "grid_RF.fit(X_train, y_train)"
      ],
      "execution_count": null,
      "outputs": []
    },
    {
      "cell_type": "markdown",
      "metadata": {
        "id": "_95vX87odB7_"
      },
      "source": [
        "Mostrando resultados"
      ]
    },
    {
      "cell_type": "code",
      "metadata": {
        "id": "dFbaNWqgc7C8"
      },
      "source": [
        "results = pd.DataFrame(grid_RF.cv_results_)\n",
        "results.sort_values(by=\"rank_test_neg_mean_absolute_error\").head() #mostra valores ordenadas pela métrica escolhida"
      ],
      "execution_count": null,
      "outputs": []
    },
    {
      "cell_type": "code",
      "metadata": {
        "id": "ywO3EKwR9TtA"
      },
      "source": [
        "score_RF = grid_RF.best_score_\n",
        "score_RF"
      ],
      "execution_count": null,
      "outputs": []
    },
    {
      "cell_type": "markdown",
      "metadata": {
        "id": "5FkcPlj6dPZe"
      },
      "source": [
        "Usando predict"
      ]
    },
    {
      "cell_type": "code",
      "metadata": {
        "id": "lFZ19zhLdOTw"
      },
      "source": [
        "model_4 = grid_RF.best_estimator_\n",
        "y_pred_RF = model_4.predict(X_test)"
      ],
      "execution_count": null,
      "outputs": []
    },
    {
      "cell_type": "markdown",
      "metadata": {
        "id": "U7KI5VWFfncR"
      },
      "source": [
        "#Algoritmo Gradient Boosting"
      ]
    },
    {
      "cell_type": "markdown",
      "metadata": {
        "id": "xzvSyYPhf35K"
      },
      "source": [
        "Utilizando Pipeline"
      ]
    },
    {
      "cell_type": "code",
      "metadata": {
        "id": "p7aSaY7Sfvvt"
      },
      "source": [
        "pipe_GB = Pipeline(steps=[\n",
        "      ('scaler_std', preprocessing.StandardScaler()), #standardização\n",
        "      ('PCA', PCA()), #redução de dimensionalidade\n",
        "      ('imputer', SimpleImputer(strategy='mean')), #substitui valores faltantes pela média\n",
        "      ('GradientBoosting', GradientBoostingRegressor()),\n",
        "])"
      ],
      "execution_count": null,
      "outputs": []
    },
    {
      "cell_type": "code",
      "metadata": {
        "id": "sIX3poEugY1W",
        "colab": {
          "base_uri": "https://localhost:8080/"
        },
        "outputId": "14153856-8775-4b4c-b284-252ac0dbdbb6"
      },
      "source": [
        "pipe_GB.get_params().keys()"
      ],
      "execution_count": null,
      "outputs": [
        {
          "output_type": "execute_result",
          "data": {
            "text/plain": [
              "dict_keys(['memory', 'steps', 'verbose', 'scaler_std', 'PCA', 'imputer', 'GradientBoosting', 'scaler_std__copy', 'scaler_std__with_mean', 'scaler_std__with_std', 'PCA__copy', 'PCA__iterated_power', 'PCA__n_components', 'PCA__random_state', 'PCA__svd_solver', 'PCA__tol', 'PCA__whiten', 'imputer__add_indicator', 'imputer__copy', 'imputer__fill_value', 'imputer__missing_values', 'imputer__strategy', 'imputer__verbose', 'GradientBoosting__alpha', 'GradientBoosting__ccp_alpha', 'GradientBoosting__criterion', 'GradientBoosting__init', 'GradientBoosting__learning_rate', 'GradientBoosting__loss', 'GradientBoosting__max_depth', 'GradientBoosting__max_features', 'GradientBoosting__max_leaf_nodes', 'GradientBoosting__min_impurity_decrease', 'GradientBoosting__min_impurity_split', 'GradientBoosting__min_samples_leaf', 'GradientBoosting__min_samples_split', 'GradientBoosting__min_weight_fraction_leaf', 'GradientBoosting__n_estimators', 'GradientBoosting__n_iter_no_change', 'GradientBoosting__presort', 'GradientBoosting__random_state', 'GradientBoosting__subsample', 'GradientBoosting__tol', 'GradientBoosting__validation_fraction', 'GradientBoosting__verbose', 'GradientBoosting__warm_start'])"
            ]
          },
          "metadata": {},
          "execution_count": 16
        }
      ]
    },
    {
      "cell_type": "markdown",
      "metadata": {
        "id": "l8qUZciYgfPR"
      },
      "source": [
        "Parâmetros para o Grid Search"
      ]
    },
    {
      "cell_type": "code",
      "metadata": {
        "id": "PrqNMHAXgbPr"
      },
      "source": [
        "num_estimators = np.arange(100,200)\n",
        "learningRate = [0.1, 0.01, 0.001, 0.0001, 0.00001]\n",
        "\n",
        "param_grid_GB = {'GradientBoosting__n_estimators': num_estimators,\n",
        "                 'GradientBoosting__learning_rate': learningRate\n",
        "}"
      ],
      "execution_count": null,
      "outputs": []
    },
    {
      "cell_type": "markdown",
      "metadata": {
        "id": "Ak4_t3r-h7ia"
      },
      "source": [
        "Utilizando Grid Search"
      ]
    },
    {
      "cell_type": "code",
      "metadata": {
        "id": "mr9KIqtbhwga"
      },
      "source": [
        "grid_GB = GridSearchCV(pipe_GB,\n",
        "                    param_grid=param_grid_GB,\n",
        "                    scoring=metricas,\n",
        "                    refit='neg_mean_absolute_error', #retorna modelo já treinado com melhores parâmetros e métrica escolhida\n",
        "                    cv = 5,\n",
        "                    verbose = 1, #nível de mensagens que serão emitidas\n",
        "                    n_jobs = -1,\n",
        "                    return_train_score=False #não retornar métricas de treino\n",
        ")"
      ],
      "execution_count": null,
      "outputs": []
    },
    {
      "cell_type": "code",
      "metadata": {
        "id": "22WcEFEZiB3H"
      },
      "source": [
        "grid_GB.fit(X_train, y_train)"
      ],
      "execution_count": null,
      "outputs": []
    },
    {
      "cell_type": "markdown",
      "metadata": {
        "id": "HseIGGDKiYTu"
      },
      "source": [
        "Mostrando resultados"
      ]
    },
    {
      "cell_type": "code",
      "metadata": {
        "id": "S9-vdtEjiZ5P"
      },
      "source": [
        "results = pd.DataFrame(grid_GB.cv_results_)\n",
        "results.sort_values(by=\"rank_test_neg_mean_absolute_error\").head() #mostra valores ordenadas pela métrica escolhida"
      ],
      "execution_count": null,
      "outputs": []
    },
    {
      "cell_type": "code",
      "metadata": {
        "id": "DgmpNufU9k9O"
      },
      "source": [
        "score_GB = grid_GB.best_score_\n",
        "score_GB"
      ],
      "execution_count": null,
      "outputs": []
    },
    {
      "cell_type": "markdown",
      "metadata": {
        "id": "eXSPoTtqihX2"
      },
      "source": [
        "Utilizando predict"
      ]
    },
    {
      "cell_type": "code",
      "metadata": {
        "id": "TOubpK9Zigft"
      },
      "source": [
        "model_5 = grid_GB.best_estimator_\n",
        "y_pred_GB = model_5.predict(X_test)"
      ],
      "execution_count": null,
      "outputs": []
    },
    {
      "cell_type": "markdown",
      "metadata": {
        "id": "R-cH1SLNp_bV"
      },
      "source": [
        "#Algoritmo Perceptron"
      ]
    },
    {
      "cell_type": "markdown",
      "metadata": {
        "id": "45lwt7Y6qHy0"
      },
      "source": [
        "Utilizando Pipeline"
      ]
    },
    {
      "cell_type": "code",
      "metadata": {
        "id": "BBdQENHrqGMu"
      },
      "source": [
        "pipe_perc = Pipeline(steps=[\n",
        "      ('scaler_std', preprocessing.StandardScaler()), #standardização\n",
        "      ('PCA', PCA()), #redução de dimensionalidade\n",
        "      ('imputer', SimpleImputer(strategy='mean')), #substitui valores faltantes pela média\n",
        "      ('Perceptron', Perceptron()),\n",
        "])"
      ],
      "execution_count": null,
      "outputs": []
    },
    {
      "cell_type": "code",
      "metadata": {
        "id": "Sjhnvs3uqhtc",
        "colab": {
          "base_uri": "https://localhost:8080/"
        },
        "outputId": "2d1a5b06-68b6-4594-fb44-467450eb0997"
      },
      "source": [
        "pipe_perc.get_params().keys()"
      ],
      "execution_count": null,
      "outputs": [
        {
          "output_type": "execute_result",
          "data": {
            "text/plain": [
              "dict_keys(['memory', 'steps', 'verbose', 'scaler_std', 'PCA', 'imputer', 'Perceptron', 'scaler_std__copy', 'scaler_std__with_mean', 'scaler_std__with_std', 'PCA__copy', 'PCA__iterated_power', 'PCA__n_components', 'PCA__random_state', 'PCA__svd_solver', 'PCA__tol', 'PCA__whiten', 'imputer__add_indicator', 'imputer__copy', 'imputer__fill_value', 'imputer__missing_values', 'imputer__strategy', 'imputer__verbose', 'Perceptron__alpha', 'Perceptron__class_weight', 'Perceptron__early_stopping', 'Perceptron__eta0', 'Perceptron__fit_intercept', 'Perceptron__max_iter', 'Perceptron__n_iter_no_change', 'Perceptron__n_jobs', 'Perceptron__penalty', 'Perceptron__random_state', 'Perceptron__shuffle', 'Perceptron__tol', 'Perceptron__validation_fraction', 'Perceptron__verbose', 'Perceptron__warm_start'])"
            ]
          },
          "metadata": {},
          "execution_count": 54
        }
      ]
    },
    {
      "cell_type": "markdown",
      "metadata": {
        "id": "_PZFCCLyqnVN"
      },
      "source": [
        "Parâmetros para o Grid Search"
      ]
    },
    {
      "cell_type": "code",
      "metadata": {
        "id": "irJovZHdqmdk"
      },
      "source": [
        "penalidade = ['None', 'l2', 'l1', 'elasticnet']\n",
        "alpha = [1e-4, 1e-5, 1e-6, 1e-7, 1e-8]\n",
        "\n",
        "param_grid_perc = {'Perceptron__penalty': penalidade,\n",
        "                 'Perceptron__alpha': alpha\n",
        "}"
      ],
      "execution_count": null,
      "outputs": []
    },
    {
      "cell_type": "markdown",
      "metadata": {
        "id": "frvSOCBIvzR_"
      },
      "source": [
        "Utilizando Grid Search"
      ]
    },
    {
      "cell_type": "code",
      "metadata": {
        "id": "vbE4iB9wrqZr"
      },
      "source": [
        "grid_perc = GridSearchCV(pipe_perc,\n",
        "                    param_grid=param_grid_perc,\n",
        "                    scoring=metricas,\n",
        "                    refit='neg_mean_absolute_error', #retorna modelo já treinado com melhores parâmetros e métrica escolhida\n",
        "                    cv = 5,\n",
        "                    verbose = 1, #nível de mensagens que serão emitidas\n",
        "                    n_jobs = -1,\n",
        "                    return_train_score=False #não retornar métricas de treino\n",
        ")"
      ],
      "execution_count": null,
      "outputs": []
    },
    {
      "cell_type": "code",
      "metadata": {
        "id": "t9VEr2O1rzvQ",
        "colab": {
          "base_uri": "https://localhost:8080/",
          "height": 394
        },
        "outputId": "729cad4b-e304-46b7-f583-0f059d7c4cf0"
      },
      "source": [
        "grid_perc.fit(X_train, y_train)"
      ],
      "execution_count": null,
      "outputs": [
        {
          "output_type": "stream",
          "text": [
            "Fitting 5 folds for each of 20 candidates, totalling 100 fits\n"
          ],
          "name": "stdout"
        },
        {
          "output_type": "stream",
          "text": [
            "/usr/local/lib/python3.7/dist-packages/sklearn/model_selection/_split.py:667: UserWarning: The least populated class in y has only 1 members, which is less than n_splits=5.\n",
            "  % (min_groups, self.n_splits)), UserWarning)\n",
            "[Parallel(n_jobs=-1)]: Using backend LokyBackend with 2 concurrent workers.\n"
          ],
          "name": "stderr"
        },
        {
          "output_type": "error",
          "ename": "KeyboardInterrupt",
          "evalue": "ignored",
          "traceback": [
            "\u001b[0;31m---------------------------------------------------------------------------\u001b[0m",
            "\u001b[0;31mKeyboardInterrupt\u001b[0m                         Traceback (most recent call last)",
            "\u001b[0;32m<ipython-input-57-e0853175aad5>\u001b[0m in \u001b[0;36m<module>\u001b[0;34m()\u001b[0m\n\u001b[0;32m----> 1\u001b[0;31m \u001b[0mgrid_perc\u001b[0m\u001b[0;34m.\u001b[0m\u001b[0mfit\u001b[0m\u001b[0;34m(\u001b[0m\u001b[0mX_train\u001b[0m\u001b[0;34m,\u001b[0m \u001b[0my_train\u001b[0m\u001b[0;34m)\u001b[0m\u001b[0;34m\u001b[0m\u001b[0;34m\u001b[0m\u001b[0m\n\u001b[0m",
            "\u001b[0;32m/usr/local/lib/python3.7/dist-packages/sklearn/model_selection/_search.py\u001b[0m in \u001b[0;36mfit\u001b[0;34m(self, X, y, groups, **fit_params)\u001b[0m\n\u001b[1;32m    708\u001b[0m                 \u001b[0;32mreturn\u001b[0m \u001b[0mresults\u001b[0m\u001b[0;34m\u001b[0m\u001b[0;34m\u001b[0m\u001b[0m\n\u001b[1;32m    709\u001b[0m \u001b[0;34m\u001b[0m\u001b[0m\n\u001b[0;32m--> 710\u001b[0;31m             \u001b[0mself\u001b[0m\u001b[0;34m.\u001b[0m\u001b[0m_run_search\u001b[0m\u001b[0;34m(\u001b[0m\u001b[0mevaluate_candidates\u001b[0m\u001b[0;34m)\u001b[0m\u001b[0;34m\u001b[0m\u001b[0;34m\u001b[0m\u001b[0m\n\u001b[0m\u001b[1;32m    711\u001b[0m \u001b[0;34m\u001b[0m\u001b[0m\n\u001b[1;32m    712\u001b[0m         \u001b[0;31m# For multi-metric evaluation, store the best_index_, best_params_ and\u001b[0m\u001b[0;34m\u001b[0m\u001b[0;34m\u001b[0m\u001b[0;34m\u001b[0m\u001b[0m\n",
            "\u001b[0;32m/usr/local/lib/python3.7/dist-packages/sklearn/model_selection/_search.py\u001b[0m in \u001b[0;36m_run_search\u001b[0;34m(self, evaluate_candidates)\u001b[0m\n\u001b[1;32m   1149\u001b[0m     \u001b[0;32mdef\u001b[0m \u001b[0m_run_search\u001b[0m\u001b[0;34m(\u001b[0m\u001b[0mself\u001b[0m\u001b[0;34m,\u001b[0m \u001b[0mevaluate_candidates\u001b[0m\u001b[0;34m)\u001b[0m\u001b[0;34m:\u001b[0m\u001b[0;34m\u001b[0m\u001b[0;34m\u001b[0m\u001b[0m\n\u001b[1;32m   1150\u001b[0m         \u001b[0;34m\"\"\"Search all candidates in param_grid\"\"\"\u001b[0m\u001b[0;34m\u001b[0m\u001b[0;34m\u001b[0m\u001b[0m\n\u001b[0;32m-> 1151\u001b[0;31m         \u001b[0mevaluate_candidates\u001b[0m\u001b[0;34m(\u001b[0m\u001b[0mParameterGrid\u001b[0m\u001b[0;34m(\u001b[0m\u001b[0mself\u001b[0m\u001b[0;34m.\u001b[0m\u001b[0mparam_grid\u001b[0m\u001b[0;34m)\u001b[0m\u001b[0;34m)\u001b[0m\u001b[0;34m\u001b[0m\u001b[0;34m\u001b[0m\u001b[0m\n\u001b[0m\u001b[1;32m   1152\u001b[0m \u001b[0;34m\u001b[0m\u001b[0m\n\u001b[1;32m   1153\u001b[0m \u001b[0;34m\u001b[0m\u001b[0m\n",
            "\u001b[0;32m/usr/local/lib/python3.7/dist-packages/sklearn/model_selection/_search.py\u001b[0m in \u001b[0;36mevaluate_candidates\u001b[0;34m(candidate_params)\u001b[0m\n\u001b[1;32m    687\u001b[0m                                \u001b[0;32mfor\u001b[0m \u001b[0mparameters\u001b[0m\u001b[0;34m,\u001b[0m \u001b[0;34m(\u001b[0m\u001b[0mtrain\u001b[0m\u001b[0;34m,\u001b[0m \u001b[0mtest\u001b[0m\u001b[0;34m)\u001b[0m\u001b[0;34m\u001b[0m\u001b[0;34m\u001b[0m\u001b[0m\n\u001b[1;32m    688\u001b[0m                                in product(candidate_params,\n\u001b[0;32m--> 689\u001b[0;31m                                           cv.split(X, y, groups)))\n\u001b[0m\u001b[1;32m    690\u001b[0m \u001b[0;34m\u001b[0m\u001b[0m\n\u001b[1;32m    691\u001b[0m                 \u001b[0;32mif\u001b[0m \u001b[0mlen\u001b[0m\u001b[0;34m(\u001b[0m\u001b[0mout\u001b[0m\u001b[0;34m)\u001b[0m \u001b[0;34m<\u001b[0m \u001b[0;36m1\u001b[0m\u001b[0;34m:\u001b[0m\u001b[0;34m\u001b[0m\u001b[0;34m\u001b[0m\u001b[0m\n",
            "\u001b[0;32m/usr/local/lib/python3.7/dist-packages/joblib/parallel.py\u001b[0m in \u001b[0;36m__call__\u001b[0;34m(self, iterable)\u001b[0m\n\u001b[1;32m   1052\u001b[0m \u001b[0;34m\u001b[0m\u001b[0m\n\u001b[1;32m   1053\u001b[0m             \u001b[0;32mwith\u001b[0m \u001b[0mself\u001b[0m\u001b[0;34m.\u001b[0m\u001b[0m_backend\u001b[0m\u001b[0;34m.\u001b[0m\u001b[0mretrieval_context\u001b[0m\u001b[0;34m(\u001b[0m\u001b[0;34m)\u001b[0m\u001b[0;34m:\u001b[0m\u001b[0;34m\u001b[0m\u001b[0;34m\u001b[0m\u001b[0m\n\u001b[0;32m-> 1054\u001b[0;31m                 \u001b[0mself\u001b[0m\u001b[0;34m.\u001b[0m\u001b[0mretrieve\u001b[0m\u001b[0;34m(\u001b[0m\u001b[0;34m)\u001b[0m\u001b[0;34m\u001b[0m\u001b[0;34m\u001b[0m\u001b[0m\n\u001b[0m\u001b[1;32m   1055\u001b[0m             \u001b[0;31m# Make sure that we get a last message telling us we are done\u001b[0m\u001b[0;34m\u001b[0m\u001b[0;34m\u001b[0m\u001b[0;34m\u001b[0m\u001b[0m\n\u001b[1;32m   1056\u001b[0m             \u001b[0melapsed_time\u001b[0m \u001b[0;34m=\u001b[0m \u001b[0mtime\u001b[0m\u001b[0;34m.\u001b[0m\u001b[0mtime\u001b[0m\u001b[0;34m(\u001b[0m\u001b[0;34m)\u001b[0m \u001b[0;34m-\u001b[0m \u001b[0mself\u001b[0m\u001b[0;34m.\u001b[0m\u001b[0m_start_time\u001b[0m\u001b[0;34m\u001b[0m\u001b[0;34m\u001b[0m\u001b[0m\n",
            "\u001b[0;32m/usr/local/lib/python3.7/dist-packages/joblib/parallel.py\u001b[0m in \u001b[0;36mretrieve\u001b[0;34m(self)\u001b[0m\n\u001b[1;32m    931\u001b[0m             \u001b[0;32mtry\u001b[0m\u001b[0;34m:\u001b[0m\u001b[0;34m\u001b[0m\u001b[0;34m\u001b[0m\u001b[0m\n\u001b[1;32m    932\u001b[0m                 \u001b[0;32mif\u001b[0m \u001b[0mgetattr\u001b[0m\u001b[0;34m(\u001b[0m\u001b[0mself\u001b[0m\u001b[0;34m.\u001b[0m\u001b[0m_backend\u001b[0m\u001b[0;34m,\u001b[0m \u001b[0;34m'supports_timeout'\u001b[0m\u001b[0;34m,\u001b[0m \u001b[0;32mFalse\u001b[0m\u001b[0;34m)\u001b[0m\u001b[0;34m:\u001b[0m\u001b[0;34m\u001b[0m\u001b[0;34m\u001b[0m\u001b[0m\n\u001b[0;32m--> 933\u001b[0;31m                     \u001b[0mself\u001b[0m\u001b[0;34m.\u001b[0m\u001b[0m_output\u001b[0m\u001b[0;34m.\u001b[0m\u001b[0mextend\u001b[0m\u001b[0;34m(\u001b[0m\u001b[0mjob\u001b[0m\u001b[0;34m.\u001b[0m\u001b[0mget\u001b[0m\u001b[0;34m(\u001b[0m\u001b[0mtimeout\u001b[0m\u001b[0;34m=\u001b[0m\u001b[0mself\u001b[0m\u001b[0;34m.\u001b[0m\u001b[0mtimeout\u001b[0m\u001b[0;34m)\u001b[0m\u001b[0;34m)\u001b[0m\u001b[0;34m\u001b[0m\u001b[0;34m\u001b[0m\u001b[0m\n\u001b[0m\u001b[1;32m    934\u001b[0m                 \u001b[0;32melse\u001b[0m\u001b[0;34m:\u001b[0m\u001b[0;34m\u001b[0m\u001b[0;34m\u001b[0m\u001b[0m\n\u001b[1;32m    935\u001b[0m                     \u001b[0mself\u001b[0m\u001b[0;34m.\u001b[0m\u001b[0m_output\u001b[0m\u001b[0;34m.\u001b[0m\u001b[0mextend\u001b[0m\u001b[0;34m(\u001b[0m\u001b[0mjob\u001b[0m\u001b[0;34m.\u001b[0m\u001b[0mget\u001b[0m\u001b[0;34m(\u001b[0m\u001b[0;34m)\u001b[0m\u001b[0;34m)\u001b[0m\u001b[0;34m\u001b[0m\u001b[0;34m\u001b[0m\u001b[0m\n",
            "\u001b[0;32m/usr/local/lib/python3.7/dist-packages/joblib/_parallel_backends.py\u001b[0m in \u001b[0;36mwrap_future_result\u001b[0;34m(future, timeout)\u001b[0m\n\u001b[1;32m    540\u001b[0m         AsyncResults.get from multiprocessing.\"\"\"\n\u001b[1;32m    541\u001b[0m         \u001b[0;32mtry\u001b[0m\u001b[0;34m:\u001b[0m\u001b[0;34m\u001b[0m\u001b[0;34m\u001b[0m\u001b[0m\n\u001b[0;32m--> 542\u001b[0;31m             \u001b[0;32mreturn\u001b[0m \u001b[0mfuture\u001b[0m\u001b[0;34m.\u001b[0m\u001b[0mresult\u001b[0m\u001b[0;34m(\u001b[0m\u001b[0mtimeout\u001b[0m\u001b[0;34m=\u001b[0m\u001b[0mtimeout\u001b[0m\u001b[0;34m)\u001b[0m\u001b[0;34m\u001b[0m\u001b[0;34m\u001b[0m\u001b[0m\n\u001b[0m\u001b[1;32m    543\u001b[0m         \u001b[0;32mexcept\u001b[0m \u001b[0mCfTimeoutError\u001b[0m \u001b[0;32mas\u001b[0m \u001b[0me\u001b[0m\u001b[0;34m:\u001b[0m\u001b[0;34m\u001b[0m\u001b[0;34m\u001b[0m\u001b[0m\n\u001b[1;32m    544\u001b[0m             \u001b[0;32mraise\u001b[0m \u001b[0mTimeoutError\u001b[0m \u001b[0;32mfrom\u001b[0m \u001b[0me\u001b[0m\u001b[0;34m\u001b[0m\u001b[0;34m\u001b[0m\u001b[0m\n",
            "\u001b[0;32m/usr/lib/python3.7/concurrent/futures/_base.py\u001b[0m in \u001b[0;36mresult\u001b[0;34m(self, timeout)\u001b[0m\n\u001b[1;32m    428\u001b[0m                 \u001b[0;32mreturn\u001b[0m \u001b[0mself\u001b[0m\u001b[0;34m.\u001b[0m\u001b[0m__get_result\u001b[0m\u001b[0;34m(\u001b[0m\u001b[0;34m)\u001b[0m\u001b[0;34m\u001b[0m\u001b[0;34m\u001b[0m\u001b[0m\n\u001b[1;32m    429\u001b[0m \u001b[0;34m\u001b[0m\u001b[0m\n\u001b[0;32m--> 430\u001b[0;31m             \u001b[0mself\u001b[0m\u001b[0;34m.\u001b[0m\u001b[0m_condition\u001b[0m\u001b[0;34m.\u001b[0m\u001b[0mwait\u001b[0m\u001b[0;34m(\u001b[0m\u001b[0mtimeout\u001b[0m\u001b[0;34m)\u001b[0m\u001b[0;34m\u001b[0m\u001b[0;34m\u001b[0m\u001b[0m\n\u001b[0m\u001b[1;32m    431\u001b[0m \u001b[0;34m\u001b[0m\u001b[0m\n\u001b[1;32m    432\u001b[0m             \u001b[0;32mif\u001b[0m \u001b[0mself\u001b[0m\u001b[0;34m.\u001b[0m\u001b[0m_state\u001b[0m \u001b[0;32min\u001b[0m \u001b[0;34m[\u001b[0m\u001b[0mCANCELLED\u001b[0m\u001b[0;34m,\u001b[0m \u001b[0mCANCELLED_AND_NOTIFIED\u001b[0m\u001b[0;34m]\u001b[0m\u001b[0;34m:\u001b[0m\u001b[0;34m\u001b[0m\u001b[0;34m\u001b[0m\u001b[0m\n",
            "\u001b[0;32m/usr/lib/python3.7/threading.py\u001b[0m in \u001b[0;36mwait\u001b[0;34m(self, timeout)\u001b[0m\n\u001b[1;32m    294\u001b[0m         \u001b[0;32mtry\u001b[0m\u001b[0;34m:\u001b[0m    \u001b[0;31m# restore state no matter what (e.g., KeyboardInterrupt)\u001b[0m\u001b[0;34m\u001b[0m\u001b[0;34m\u001b[0m\u001b[0m\n\u001b[1;32m    295\u001b[0m             \u001b[0;32mif\u001b[0m \u001b[0mtimeout\u001b[0m \u001b[0;32mis\u001b[0m \u001b[0;32mNone\u001b[0m\u001b[0;34m:\u001b[0m\u001b[0;34m\u001b[0m\u001b[0;34m\u001b[0m\u001b[0m\n\u001b[0;32m--> 296\u001b[0;31m                 \u001b[0mwaiter\u001b[0m\u001b[0;34m.\u001b[0m\u001b[0macquire\u001b[0m\u001b[0;34m(\u001b[0m\u001b[0;34m)\u001b[0m\u001b[0;34m\u001b[0m\u001b[0;34m\u001b[0m\u001b[0m\n\u001b[0m\u001b[1;32m    297\u001b[0m                 \u001b[0mgotit\u001b[0m \u001b[0;34m=\u001b[0m \u001b[0;32mTrue\u001b[0m\u001b[0;34m\u001b[0m\u001b[0;34m\u001b[0m\u001b[0m\n\u001b[1;32m    298\u001b[0m             \u001b[0;32melse\u001b[0m\u001b[0;34m:\u001b[0m\u001b[0;34m\u001b[0m\u001b[0;34m\u001b[0m\u001b[0m\n",
            "\u001b[0;31mKeyboardInterrupt\u001b[0m: "
          ]
        }
      ]
    },
    {
      "cell_type": "markdown",
      "metadata": {
        "id": "QMO8fJgdr8fz"
      },
      "source": [
        "Mostrando resultados"
      ]
    },
    {
      "cell_type": "code",
      "metadata": {
        "id": "eNqTISetr43I"
      },
      "source": [
        "results = pd.DataFrame(grid_perc.cv_results_)\n",
        "results.sort_values(by=\"rank_test_neg_mean_absolute_error\").head() #mostra valores ordenadas pela métrica escolhida"
      ],
      "execution_count": null,
      "outputs": []
    },
    {
      "cell_type": "code",
      "metadata": {
        "id": "C1LZZi7h9pyN"
      },
      "source": [
        "score_perc = grid_perc.best_score_\n",
        "score_perc"
      ],
      "execution_count": null,
      "outputs": []
    },
    {
      "cell_type": "markdown",
      "metadata": {
        "id": "kQqde4bYsGBz"
      },
      "source": [
        "Utilizando predict"
      ]
    },
    {
      "cell_type": "code",
      "metadata": {
        "id": "GmCFM-_OsH6A"
      },
      "source": [
        "model_6 = grid_perc.best_estimator_\n",
        "y_pred_perc = model_6.predict(X_test)"
      ],
      "execution_count": null,
      "outputs": []
    },
    {
      "cell_type": "markdown",
      "metadata": {
        "id": "z5cPAotguSVx"
      },
      "source": [
        "#Algoritmo Multi-layer Perceptron"
      ]
    },
    {
      "cell_type": "markdown",
      "metadata": {
        "id": "Bso75QR7udDH"
      },
      "source": [
        "Utilizando Pipeline"
      ]
    },
    {
      "cell_type": "code",
      "metadata": {
        "id": "I5-P5XdQubs3"
      },
      "source": [
        "pipe_MLP = Pipeline(steps=[\n",
        "      ('scaler_std', preprocessing.StandardScaler()), #standardização\n",
        "      ('PCA', PCA()), #redução de dimensionalidade\n",
        "      ('imputer', SimpleImputer(strategy='mean')), #substitui valores faltantes pela média\n",
        "      ('MLPerceptron', MLPRegressor()),\n",
        "])"
      ],
      "execution_count": null,
      "outputs": []
    },
    {
      "cell_type": "code",
      "metadata": {
        "id": "10WW9laTu7iL",
        "colab": {
          "base_uri": "https://localhost:8080/"
        },
        "outputId": "6b2243cc-7202-4020-91ec-777342f95e38"
      },
      "source": [
        "pipe_MLP.get_params().keys()"
      ],
      "execution_count": null,
      "outputs": [
        {
          "output_type": "execute_result",
          "data": {
            "text/plain": [
              "dict_keys(['memory', 'steps', 'verbose', 'scaler_std', 'PCA', 'imputer', 'MLPerceptron', 'scaler_std__copy', 'scaler_std__with_mean', 'scaler_std__with_std', 'PCA__copy', 'PCA__iterated_power', 'PCA__n_components', 'PCA__random_state', 'PCA__svd_solver', 'PCA__tol', 'PCA__whiten', 'imputer__add_indicator', 'imputer__copy', 'imputer__fill_value', 'imputer__missing_values', 'imputer__strategy', 'imputer__verbose', 'MLPerceptron__activation', 'MLPerceptron__alpha', 'MLPerceptron__batch_size', 'MLPerceptron__beta_1', 'MLPerceptron__beta_2', 'MLPerceptron__early_stopping', 'MLPerceptron__epsilon', 'MLPerceptron__hidden_layer_sizes', 'MLPerceptron__learning_rate', 'MLPerceptron__learning_rate_init', 'MLPerceptron__max_fun', 'MLPerceptron__max_iter', 'MLPerceptron__momentum', 'MLPerceptron__n_iter_no_change', 'MLPerceptron__nesterovs_momentum', 'MLPerceptron__power_t', 'MLPerceptron__random_state', 'MLPerceptron__shuffle', 'MLPerceptron__solver', 'MLPerceptron__tol', 'MLPerceptron__validation_fraction', 'MLPerceptron__verbose', 'MLPerceptron__warm_start'])"
            ]
          },
          "metadata": {},
          "execution_count": 33
        }
      ]
    },
    {
      "cell_type": "code",
      "metadata": {
        "id": "ou-sYIKFvBS2"
      },
      "source": [
        "alphaMLP = [1e-4, 1e-5, 1e-6, 1e-7, 1e-8]\n",
        "\n",
        "param_grid_MLP = {'MLPerceptron__alpha': alphaMLP}"
      ],
      "execution_count": null,
      "outputs": []
    },
    {
      "cell_type": "markdown",
      "metadata": {
        "id": "fjEg5RcwwAKd"
      },
      "source": [
        "Utilizando Grid Search"
      ]
    },
    {
      "cell_type": "code",
      "metadata": {
        "id": "noSPd6Kvv41z"
      },
      "source": [
        "grid_MLP = GridSearchCV(pipe_MLP,\n",
        "                    param_grid=param_grid_MLP,\n",
        "                    scoring=metricas,\n",
        "                    refit='neg_mean_absolute_error', #retorna modelo já treinado com melhores parâmetros e métrica escolhida\n",
        "                    cv = 5,\n",
        "                    verbose = 1, #nível de mensagens que serão emitidas\n",
        "                    n_jobs = -1,\n",
        "                    return_train_score=False #não retornar métricas de treino\n",
        ")"
      ],
      "execution_count": null,
      "outputs": []
    },
    {
      "cell_type": "code",
      "metadata": {
        "id": "shFb-QWmwJM-",
        "colab": {
          "base_uri": "https://localhost:8080/"
        },
        "outputId": "4ad5a82c-bc67-4e48-cd68-6c637dbae1a3"
      },
      "source": [
        "grid_MLP.fit(X_train, y_train)"
      ],
      "execution_count": null,
      "outputs": [
        {
          "output_type": "stream",
          "text": [
            "Fitting 5 folds for each of 5 candidates, totalling 25 fits\n"
          ],
          "name": "stdout"
        },
        {
          "output_type": "stream",
          "text": [
            "[Parallel(n_jobs=-1)]: Using backend LokyBackend with 2 concurrent workers.\n",
            "[Parallel(n_jobs=-1)]: Done  25 out of  25 | elapsed: 13.4min finished\n",
            "/usr/local/lib/python3.7/dist-packages/sklearn/neural_network/_multilayer_perceptron.py:571: ConvergenceWarning: Stochastic Optimizer: Maximum iterations (200) reached and the optimization hasn't converged yet.\n",
            "  % self.max_iter, ConvergenceWarning)\n"
          ],
          "name": "stderr"
        },
        {
          "output_type": "execute_result",
          "data": {
            "text/plain": [
              "GridSearchCV(cv=5, error_score=nan,\n",
              "             estimator=Pipeline(memory=None,\n",
              "                                steps=[('scaler_std',\n",
              "                                        StandardScaler(copy=True,\n",
              "                                                       with_mean=True,\n",
              "                                                       with_std=True)),\n",
              "                                       ('PCA',\n",
              "                                        PCA(copy=True, iterated_power='auto',\n",
              "                                            n_components=None,\n",
              "                                            random_state=None,\n",
              "                                            svd_solver='auto', tol=0.0,\n",
              "                                            whiten=False)),\n",
              "                                       ('imputer',\n",
              "                                        SimpleImputer(add_indicator=False,\n",
              "                                                      copy=True,\n",
              "                                                      fill_value=None,\n",
              "                                                      missing_values=na...\n",
              "                                                     verbose=False,\n",
              "                                                     warm_start=False))],\n",
              "                                verbose=False),\n",
              "             iid='deprecated', n_jobs=-1,\n",
              "             param_grid={'MLPerceptron__alpha': [0.0001, 1e-05, 1e-06, 1e-07,\n",
              "                                                 1e-08]},\n",
              "             pre_dispatch='2*n_jobs', refit='neg_mean_absolute_error',\n",
              "             return_train_score=False,\n",
              "             scoring=['explained_variance', 'neg_mean_absolute_error',\n",
              "                      'neg_mean_squared_error', 'neg_median_absolute_error',\n",
              "                      'r2'],\n",
              "             verbose=1)"
            ]
          },
          "metadata": {},
          "execution_count": 36
        }
      ]
    },
    {
      "cell_type": "markdown",
      "metadata": {
        "id": "oWClScpAwR-Z"
      },
      "source": [
        "Mostrando resultados"
      ]
    },
    {
      "cell_type": "code",
      "metadata": {
        "id": "XGavssvwwRGy",
        "colab": {
          "base_uri": "https://localhost:8080/",
          "height": 309
        },
        "outputId": "ca74d441-52dd-4fb2-f9c1-d153f2716523"
      },
      "source": [
        "results = pd.DataFrame(grid_MLP.cv_results_)\n",
        "results.sort_values(by=\"rank_test_neg_mean_absolute_error\").head() #mostra valores ordenadas pela métrica escolhida"
      ],
      "execution_count": null,
      "outputs": [
        {
          "output_type": "execute_result",
          "data": {
            "text/html": [
              "<div>\n",
              "<style scoped>\n",
              "    .dataframe tbody tr th:only-of-type {\n",
              "        vertical-align: middle;\n",
              "    }\n",
              "\n",
              "    .dataframe tbody tr th {\n",
              "        vertical-align: top;\n",
              "    }\n",
              "\n",
              "    .dataframe thead th {\n",
              "        text-align: right;\n",
              "    }\n",
              "</style>\n",
              "<table border=\"1\" class=\"dataframe\">\n",
              "  <thead>\n",
              "    <tr style=\"text-align: right;\">\n",
              "      <th></th>\n",
              "      <th>mean_fit_time</th>\n",
              "      <th>std_fit_time</th>\n",
              "      <th>mean_score_time</th>\n",
              "      <th>std_score_time</th>\n",
              "      <th>param_MLPerceptron__alpha</th>\n",
              "      <th>params</th>\n",
              "      <th>split0_test_explained_variance</th>\n",
              "      <th>split1_test_explained_variance</th>\n",
              "      <th>split2_test_explained_variance</th>\n",
              "      <th>split3_test_explained_variance</th>\n",
              "      <th>split4_test_explained_variance</th>\n",
              "      <th>mean_test_explained_variance</th>\n",
              "      <th>std_test_explained_variance</th>\n",
              "      <th>rank_test_explained_variance</th>\n",
              "      <th>split0_test_neg_mean_absolute_error</th>\n",
              "      <th>split1_test_neg_mean_absolute_error</th>\n",
              "      <th>split2_test_neg_mean_absolute_error</th>\n",
              "      <th>split3_test_neg_mean_absolute_error</th>\n",
              "      <th>split4_test_neg_mean_absolute_error</th>\n",
              "      <th>mean_test_neg_mean_absolute_error</th>\n",
              "      <th>std_test_neg_mean_absolute_error</th>\n",
              "      <th>rank_test_neg_mean_absolute_error</th>\n",
              "      <th>split0_test_neg_mean_squared_error</th>\n",
              "      <th>split1_test_neg_mean_squared_error</th>\n",
              "      <th>split2_test_neg_mean_squared_error</th>\n",
              "      <th>split3_test_neg_mean_squared_error</th>\n",
              "      <th>split4_test_neg_mean_squared_error</th>\n",
              "      <th>mean_test_neg_mean_squared_error</th>\n",
              "      <th>std_test_neg_mean_squared_error</th>\n",
              "      <th>rank_test_neg_mean_squared_error</th>\n",
              "      <th>split0_test_neg_median_absolute_error</th>\n",
              "      <th>split1_test_neg_median_absolute_error</th>\n",
              "      <th>split2_test_neg_median_absolute_error</th>\n",
              "      <th>split3_test_neg_median_absolute_error</th>\n",
              "      <th>split4_test_neg_median_absolute_error</th>\n",
              "      <th>mean_test_neg_median_absolute_error</th>\n",
              "      <th>std_test_neg_median_absolute_error</th>\n",
              "      <th>rank_test_neg_median_absolute_error</th>\n",
              "      <th>split0_test_r2</th>\n",
              "      <th>split1_test_r2</th>\n",
              "      <th>split2_test_r2</th>\n",
              "      <th>split3_test_r2</th>\n",
              "      <th>split4_test_r2</th>\n",
              "      <th>mean_test_r2</th>\n",
              "      <th>std_test_r2</th>\n",
              "      <th>rank_test_r2</th>\n",
              "    </tr>\n",
              "  </thead>\n",
              "  <tbody>\n",
              "    <tr>\n",
              "      <th>3</th>\n",
              "      <td>63.307024</td>\n",
              "      <td>0.426640</td>\n",
              "      <td>0.116377</td>\n",
              "      <td>0.002250</td>\n",
              "      <td>1e-07</td>\n",
              "      <td>{'MLPerceptron__alpha': 1e-07}</td>\n",
              "      <td>0.584601</td>\n",
              "      <td>0.571040</td>\n",
              "      <td>0.586943</td>\n",
              "      <td>0.576087</td>\n",
              "      <td>0.581855</td>\n",
              "      <td>0.580105</td>\n",
              "      <td>0.005803</td>\n",
              "      <td>1</td>\n",
              "      <td>-17288.139085</td>\n",
              "      <td>-18415.457187</td>\n",
              "      <td>-18137.548295</td>\n",
              "      <td>-18302.467255</td>\n",
              "      <td>-17513.550431</td>\n",
              "      <td>-17931.432451</td>\n",
              "      <td>447.857622</td>\n",
              "      <td>1</td>\n",
              "      <td>-1.503297e+09</td>\n",
              "      <td>-1.716049e+09</td>\n",
              "      <td>-1.752613e+09</td>\n",
              "      <td>-1.580914e+09</td>\n",
              "      <td>-1.472977e+09</td>\n",
              "      <td>-1.605170e+09</td>\n",
              "      <td>1.117811e+08</td>\n",
              "      <td>1</td>\n",
              "      <td>-3893.347855</td>\n",
              "      <td>-4190.588095</td>\n",
              "      <td>-4504.737266</td>\n",
              "      <td>-4522.411373</td>\n",
              "      <td>-4515.945669</td>\n",
              "      <td>-4325.406052</td>\n",
              "      <td>249.850473</td>\n",
              "      <td>2</td>\n",
              "      <td>0.584426</td>\n",
              "      <td>0.571017</td>\n",
              "      <td>0.586895</td>\n",
              "      <td>0.575665</td>\n",
              "      <td>0.581507</td>\n",
              "      <td>0.579902</td>\n",
              "      <td>0.005811</td>\n",
              "      <td>1</td>\n",
              "    </tr>\n",
              "    <tr>\n",
              "      <th>0</th>\n",
              "      <td>62.664992</td>\n",
              "      <td>0.914698</td>\n",
              "      <td>0.113806</td>\n",
              "      <td>0.002783</td>\n",
              "      <td>0.0001</td>\n",
              "      <td>{'MLPerceptron__alpha': 0.0001}</td>\n",
              "      <td>0.582673</td>\n",
              "      <td>0.572566</td>\n",
              "      <td>0.583500</td>\n",
              "      <td>0.571631</td>\n",
              "      <td>0.581045</td>\n",
              "      <td>0.578283</td>\n",
              "      <td>0.005120</td>\n",
              "      <td>2</td>\n",
              "      <td>-17533.617686</td>\n",
              "      <td>-18411.104818</td>\n",
              "      <td>-18118.898023</td>\n",
              "      <td>-18372.929046</td>\n",
              "      <td>-17457.899942</td>\n",
              "      <td>-17978.889903</td>\n",
              "      <td>407.768743</td>\n",
              "      <td>2</td>\n",
              "      <td>-1.509695e+09</td>\n",
              "      <td>-1.709873e+09</td>\n",
              "      <td>-1.767020e+09</td>\n",
              "      <td>-1.598115e+09</td>\n",
              "      <td>-1.476037e+09</td>\n",
              "      <td>-1.612148e+09</td>\n",
              "      <td>1.120315e+08</td>\n",
              "      <td>2</td>\n",
              "      <td>-4215.781770</td>\n",
              "      <td>-4332.351879</td>\n",
              "      <td>-4369.620683</td>\n",
              "      <td>-4487.787527</td>\n",
              "      <td>-4315.095472</td>\n",
              "      <td>-4344.127466</td>\n",
              "      <td>88.025287</td>\n",
              "      <td>3</td>\n",
              "      <td>0.582657</td>\n",
              "      <td>0.572561</td>\n",
              "      <td>0.583500</td>\n",
              "      <td>0.571048</td>\n",
              "      <td>0.580638</td>\n",
              "      <td>0.578081</td>\n",
              "      <td>0.005230</td>\n",
              "      <td>2</td>\n",
              "    </tr>\n",
              "    <tr>\n",
              "      <th>2</th>\n",
              "      <td>63.406587</td>\n",
              "      <td>0.376441</td>\n",
              "      <td>0.116510</td>\n",
              "      <td>0.003334</td>\n",
              "      <td>1e-06</td>\n",
              "      <td>{'MLPerceptron__alpha': 1e-06}</td>\n",
              "      <td>0.584630</td>\n",
              "      <td>0.569221</td>\n",
              "      <td>0.581722</td>\n",
              "      <td>0.572427</td>\n",
              "      <td>0.577889</td>\n",
              "      <td>0.577178</td>\n",
              "      <td>0.005702</td>\n",
              "      <td>4</td>\n",
              "      <td>-17339.428912</td>\n",
              "      <td>-18541.669076</td>\n",
              "      <td>-18172.288903</td>\n",
              "      <td>-18419.619058</td>\n",
              "      <td>-17497.260930</td>\n",
              "      <td>-17994.053376</td>\n",
              "      <td>487.461369</td>\n",
              "      <td>3</td>\n",
              "      <td>-1.502846e+09</td>\n",
              "      <td>-1.723335e+09</td>\n",
              "      <td>-1.774590e+09</td>\n",
              "      <td>-1.594803e+09</td>\n",
              "      <td>-1.487426e+09</td>\n",
              "      <td>-1.616600e+09</td>\n",
              "      <td>1.152861e+08</td>\n",
              "      <td>4</td>\n",
              "      <td>-3900.363145</td>\n",
              "      <td>-4432.020764</td>\n",
              "      <td>-4322.970465</td>\n",
              "      <td>-4557.394939</td>\n",
              "      <td>-4248.516512</td>\n",
              "      <td>-4292.253165</td>\n",
              "      <td>221.932142</td>\n",
              "      <td>1</td>\n",
              "      <td>0.584551</td>\n",
              "      <td>0.569195</td>\n",
              "      <td>0.581715</td>\n",
              "      <td>0.571937</td>\n",
              "      <td>0.577402</td>\n",
              "      <td>0.576960</td>\n",
              "      <td>0.005761</td>\n",
              "      <td>4</td>\n",
              "    </tr>\n",
              "    <tr>\n",
              "      <th>4</th>\n",
              "      <td>59.041015</td>\n",
              "      <td>9.306810</td>\n",
              "      <td>0.111280</td>\n",
              "      <td>0.020590</td>\n",
              "      <td>1e-08</td>\n",
              "      <td>{'MLPerceptron__alpha': 1e-08}</td>\n",
              "      <td>0.585024</td>\n",
              "      <td>0.570918</td>\n",
              "      <td>0.583439</td>\n",
              "      <td>0.574969</td>\n",
              "      <td>0.574897</td>\n",
              "      <td>0.577849</td>\n",
              "      <td>0.005436</td>\n",
              "      <td>3</td>\n",
              "      <td>-17290.817481</td>\n",
              "      <td>-18423.853548</td>\n",
              "      <td>-18288.643542</td>\n",
              "      <td>-18349.470997</td>\n",
              "      <td>-17638.924560</td>\n",
              "      <td>-17998.342025</td>\n",
              "      <td>451.308869</td>\n",
              "      <td>4</td>\n",
              "      <td>-1.501648e+09</td>\n",
              "      <td>-1.716634e+09</td>\n",
              "      <td>-1.767459e+09</td>\n",
              "      <td>-1.584920e+09</td>\n",
              "      <td>-1.498516e+09</td>\n",
              "      <td>-1.613836e+09</td>\n",
              "      <td>1.103528e+08</td>\n",
              "      <td>3</td>\n",
              "      <td>-4115.050948</td>\n",
              "      <td>-4388.302779</td>\n",
              "      <td>-4443.057729</td>\n",
              "      <td>-4659.407242</td>\n",
              "      <td>-4414.182834</td>\n",
              "      <td>-4404.000306</td>\n",
              "      <td>173.551153</td>\n",
              "      <td>5</td>\n",
              "      <td>0.584882</td>\n",
              "      <td>0.570870</td>\n",
              "      <td>0.583396</td>\n",
              "      <td>0.574590</td>\n",
              "      <td>0.574251</td>\n",
              "      <td>0.577598</td>\n",
              "      <td>0.005517</td>\n",
              "      <td>3</td>\n",
              "    </tr>\n",
              "    <tr>\n",
              "      <th>1</th>\n",
              "      <td>65.565107</td>\n",
              "      <td>4.613879</td>\n",
              "      <td>0.112968</td>\n",
              "      <td>0.003262</td>\n",
              "      <td>1e-05</td>\n",
              "      <td>{'MLPerceptron__alpha': 1e-05}</td>\n",
              "      <td>0.579906</td>\n",
              "      <td>0.567399</td>\n",
              "      <td>0.581847</td>\n",
              "      <td>0.573890</td>\n",
              "      <td>0.579507</td>\n",
              "      <td>0.576510</td>\n",
              "      <td>0.005270</td>\n",
              "      <td>5</td>\n",
              "      <td>-17418.064925</td>\n",
              "      <td>-18382.764116</td>\n",
              "      <td>-18201.013790</td>\n",
              "      <td>-18540.408739</td>\n",
              "      <td>-17472.481671</td>\n",
              "      <td>-18002.946648</td>\n",
              "      <td>468.153206</td>\n",
              "      <td>5</td>\n",
              "      <td>-1.520314e+09</td>\n",
              "      <td>-1.731049e+09</td>\n",
              "      <td>-1.774042e+09</td>\n",
              "      <td>-1.588547e+09</td>\n",
              "      <td>-1.481699e+09</td>\n",
              "      <td>-1.619130e+09</td>\n",
              "      <td>1.149876e+08</td>\n",
              "      <td>5</td>\n",
              "      <td>-4173.800598</td>\n",
              "      <td>-4334.565170</td>\n",
              "      <td>-4235.303149</td>\n",
              "      <td>-4697.255587</td>\n",
              "      <td>-4284.419384</td>\n",
              "      <td>-4345.068778</td>\n",
              "      <td>183.959510</td>\n",
              "      <td>4</td>\n",
              "      <td>0.579722</td>\n",
              "      <td>0.567267</td>\n",
              "      <td>0.581845</td>\n",
              "      <td>0.573616</td>\n",
              "      <td>0.579029</td>\n",
              "      <td>0.576296</td>\n",
              "      <td>0.005267</td>\n",
              "      <td>5</td>\n",
              "    </tr>\n",
              "  </tbody>\n",
              "</table>\n",
              "</div>"
            ],
            "text/plain": [
              "   mean_fit_time  std_fit_time  ...  std_test_r2  rank_test_r2\n",
              "3      63.307024      0.426640  ...     0.005811             1\n",
              "0      62.664992      0.914698  ...     0.005230             2\n",
              "2      63.406587      0.376441  ...     0.005761             4\n",
              "4      59.041015      9.306810  ...     0.005517             3\n",
              "1      65.565107      4.613879  ...     0.005267             5\n",
              "\n",
              "[5 rows x 46 columns]"
            ]
          },
          "metadata": {},
          "execution_count": 40
        }
      ]
    },
    {
      "cell_type": "code",
      "metadata": {
        "id": "330_XiRu9v3U",
        "colab": {
          "base_uri": "https://localhost:8080/"
        },
        "outputId": "7df9f41e-ba1f-4542-9d2b-bf640d325aef"
      },
      "source": [
        "score_MLP = grid_MLP.best_score_\n",
        "score_MLP"
      ],
      "execution_count": null,
      "outputs": [
        {
          "output_type": "execute_result",
          "data": {
            "text/plain": [
              "-17931.43245061787"
            ]
          },
          "metadata": {},
          "execution_count": 41
        }
      ]
    },
    {
      "cell_type": "markdown",
      "metadata": {
        "id": "VAZn2BYwwlAU"
      },
      "source": [
        "Utilizando predict"
      ]
    },
    {
      "cell_type": "code",
      "metadata": {
        "id": "nlronEzwwcd0"
      },
      "source": [
        "model_7 = grid_MLP.best_estimator_\n",
        "y_pred_MLP = model_7.predict(X_test)"
      ],
      "execution_count": null,
      "outputs": []
    },
    {
      "cell_type": "markdown",
      "metadata": {
        "id": "1mIoiBAqzibS"
      },
      "source": [
        "Apresentação dos resultados"
      ]
    },
    {
      "cell_type": "code",
      "metadata": {
        "id": "ZUqu_dBvzl-Q"
      },
      "source": [
        "algoritms = ['KNN', 'SVM', 'Decision Tree', 'Random Forest', 'Gradient Boosting', 'Perceptron', 'Multi-layer Perceptron']\n",
        "pred = [y_pred_knn, y_pred_svm, y_pred_tree, y_pred_RF, y_pred_GB, y_pred_perc, y_pred_MLP]\n",
        "best_scores = [score_knn, score_svm, score_tree, score_RF, score_GB, score_perc, score_MLP]"
      ],
      "execution_count": null,
      "outputs": []
    },
    {
      "cell_type": "code",
      "metadata": {
        "id": "pcJSEsl92PtK"
      },
      "source": [
        "plt.bar(algoritms, pred)"
      ],
      "execution_count": null,
      "outputs": []
    },
    {
      "cell_type": "code",
      "metadata": {
        "id": "LPl9onn-ioYa"
      },
      "source": [
        "plt.bar(algoritms, best_scores)"
      ],
      "execution_count": null,
      "outputs": []
    },
    {
      "cell_type": "code",
      "metadata": {
        "id": "Fpb8NTKrDZHi"
      },
      "source": [
        "algoritms = ['KNN', 'Decision Tree', 'Multi-layer Perceptron']\n",
        "pred = [y_pred_knn, y_pred_tree,  y_pred_MLP]\n",
        "best_scores = [score_knn, score_tree, score_MLP]"
      ],
      "execution_count": null,
      "outputs": []
    },
    {
      "cell_type": "code",
      "metadata": {
        "colab": {
          "base_uri": "https://localhost:8080/",
          "height": 265
        },
        "id": "XqhlIJpgEfvM",
        "outputId": "411de13f-c3f0-4403-c769-10780ae4ce95"
      },
      "source": [
        "plt.hist(y_test);"
      ],
      "execution_count": null,
      "outputs": [
        {
          "output_type": "display_data",
          "data": {
            "image/png": "[encoded data removed]",
            "text/plain": [
              "<Figure size 432x288 with 1 Axes>"
            ]
          },
          "metadata": {
            "needs_background": "light"
          }
        }
      ]
    },
    {
      "cell_type": "code",
      "metadata": {
        "colab": {
          "base_uri": "https://localhost:8080/",
          "height": 265
        },
        "id": "WudyrbWZEjuW",
        "outputId": "80e8b4d2-a854-4840-b787-8c34c5309fae"
      },
      "source": [
        "plt.hist(y_pred_knn);"
      ],
      "execution_count": null,
      "outputs": [
        {
          "output_type": "display_data",
          "data": {
            "image/png": "[encoded data removed]",
            "text/plain": [
              "<Figure size 432x288 with 1 Axes>"
            ]
          },
          "metadata": {
            "needs_background": "light"
          }
        }
      ]
    },
    {
      "cell_type": "code",
      "metadata": {
        "colab": {
          "base_uri": "https://localhost:8080/",
          "height": 265
        },
        "id": "9-b39PIfKBVr",
        "outputId": "fa312d87-889c-4a59-d950-ff05ab95011e"
      },
      "source": [
        "plt.hist(y_pred_tree);"
      ],
      "execution_count": null,
      "outputs": [
        {
          "output_type": "display_data",
          "data": {
            "image/png": "[encoded data removed]",
            "text/plain": [
              "<Figure size 432x288 with 1 Axes>"
            ]
          },
          "metadata": {
            "needs_background": "light"
          }
        }
      ]
    },
    {
      "cell_type": "code",
      "metadata": {
        "colab": {
          "base_uri": "https://localhost:8080/",
          "height": 265
        },
        "id": "1MzleIo1En8b",
        "outputId": "b17a6a31-7176-47ab-f0c4-ccadbb3c39b4"
      },
      "source": [
        "plt.hist(y_pred_MLP);"
      ],
      "execution_count": null,
      "outputs": [
        {
          "output_type": "display_data",
          "data": {
            "image/png": "[encoded data removed]",
            "text/plain": [
              "<Figure size 432x288 with 1 Axes>"
            ]
          },
          "metadata": {
            "needs_background": "light"
          }
        }
      ]
    },
    {
      "cell_type": "code",
      "metadata": {
        "colab": {
          "base_uri": "https://localhost:8080/",
          "height": 269
        },
        "id": "avaY-6QfPSC1",
        "outputId": "d509a28e-67cb-4cdd-9381-6fd03c228988"
      },
      "source": [
        "plt.bar(algoritms, best_scores);"
      ],
      "execution_count": null,
      "outputs": [
        {
          "output_type": "display_data",
          "data": {
            "image/png": "[encoded data removed]",
            "text/plain": [
              "<Figure size 432x288 with 1 Axes>"
            ]
          },
          "metadata": {
            "needs_background": "light"
          }
        }
      ]
    }
  ]
}